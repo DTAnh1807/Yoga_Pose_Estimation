{
  "cells": [
    {
      "cell_type": "code",
      "execution_count": 1,
      "id": "86fc5251",
      "metadata": {
        "_cell_guid": "b1076dfc-b9ad-4769-8c92-a6c4dae69d19",
        "_uuid": "8f2839f25d086af736a60e9eeb907d3b93b6e0e5",
        "colab": {
          "base_uri": "https://localhost:8080/"
        },
        "execution": {
          "iopub.execute_input": "2023-06-24T06:37:47.827882Z",
          "iopub.status.busy": "2023-06-24T06:37:47.826888Z",
          "iopub.status.idle": "2023-06-24T06:38:03.027174Z",
          "shell.execute_reply": "2023-06-24T06:38:03.025741Z"
        },
        "id": "86fc5251",
        "outputId": "1cb332bd-34cb-4bc3-b134-703bea5b7511",
        "papermill": {
          "duration": 15.212571,
          "end_time": "2023-06-24T06:38:03.029853",
          "exception": false,
          "start_time": "2023-06-24T06:37:47.817282",
          "status": "completed"
        },
        "tags": []
      },
      "outputs": [
        {
          "name": "stdout",
          "output_type": "stream",
          "text": [
            "Requirement already satisfied: mediapipe in f:\\anaconda\\lib\\site-packages (0.10.8)\n",
            "Requirement already satisfied: absl-py in f:\\anaconda\\lib\\site-packages (from mediapipe) (2.0.0)\n",
            "Requirement already satisfied: attrs>=19.1.0 in f:\\anaconda\\lib\\site-packages (from mediapipe) (22.1.0)\n",
            "Requirement already satisfied: flatbuffers>=2.0 in f:\\anaconda\\lib\\site-packages (from mediapipe) (23.5.26)\n",
            "Requirement already satisfied: matplotlib in f:\\anaconda\\lib\\site-packages (from mediapipe) (3.7.2)\n",
            "Requirement already satisfied: numpy in f:\\anaconda\\lib\\site-packages (from mediapipe) (1.24.3)\n",
            "Requirement already satisfied: opencv-contrib-python in f:\\anaconda\\lib\\site-packages (from mediapipe) (4.8.1.78)\n",
            "Requirement already satisfied: protobuf<4,>=3.11 in f:\\anaconda\\lib\\site-packages (from mediapipe) (3.20.3)\n",
            "Requirement already satisfied: sounddevice>=0.4.4 in f:\\anaconda\\lib\\site-packages (from mediapipe) (0.4.6)\n",
            "Requirement already satisfied: CFFI>=1.0 in f:\\anaconda\\lib\\site-packages (from sounddevice>=0.4.4->mediapipe) (1.15.1)\n",
            "Requirement already satisfied: contourpy>=1.0.1 in f:\\anaconda\\lib\\site-packages (from matplotlib->mediapipe) (1.0.5)\n",
            "Requirement already satisfied: cycler>=0.10 in f:\\anaconda\\lib\\site-packages (from matplotlib->mediapipe) (0.11.0)\n",
            "Requirement already satisfied: fonttools>=4.22.0 in f:\\anaconda\\lib\\site-packages (from matplotlib->mediapipe) (4.25.0)\n",
            "Requirement already satisfied: kiwisolver>=1.0.1 in f:\\anaconda\\lib\\site-packages (from matplotlib->mediapipe) (1.4.4)\n",
            "Requirement already satisfied: packaging>=20.0 in f:\\anaconda\\lib\\site-packages (from matplotlib->mediapipe) (23.1)\n",
            "Requirement already satisfied: pillow>=6.2.0 in f:\\anaconda\\lib\\site-packages (from matplotlib->mediapipe) (9.4.0)\n",
            "Requirement already satisfied: pyparsing<3.1,>=2.3.1 in f:\\anaconda\\lib\\site-packages (from matplotlib->mediapipe) (3.0.9)\n",
            "Requirement already satisfied: python-dateutil>=2.7 in c:\\users\\dell\\appdata\\roaming\\python\\python311\\site-packages (from matplotlib->mediapipe) (2.8.2)\n",
            "Requirement already satisfied: pycparser in f:\\anaconda\\lib\\site-packages (from CFFI>=1.0->sounddevice>=0.4.4->mediapipe) (2.21)\n",
            "Requirement already satisfied: six>=1.5 in c:\\users\\dell\\appdata\\roaming\\python\\python311\\site-packages (from python-dateutil>=2.7->matplotlib->mediapipe) (1.16.0)\n"
          ]
        },
        {
          "name": "stderr",
          "output_type": "stream",
          "text": [
            "DEPRECATION: Loading egg at f:\\anaconda\\lib\\site-packages\\torchlight-1.0-py3.11.egg is deprecated. pip 23.3 will enforce this behaviour change. A possible replacement is to use pip for package installation..\n"
          ]
        }
      ],
      "source": [
        "pip install mediapipe"
      ]
    },
    {
      "cell_type": "code",
      "execution_count": 6,
      "id": "6cdadd2c",
      "metadata": {
        "execution": {
          "iopub.execute_input": "2023-06-24T06:38:03.050620Z",
          "iopub.status.busy": "2023-06-24T06:38:03.050257Z",
          "iopub.status.idle": "2023-06-24T06:38:03.055055Z",
          "shell.execute_reply": "2023-06-24T06:38:03.054104Z"
        },
        "id": "6cdadd2c",
        "papermill": {
          "duration": 0.017388,
          "end_time": "2023-06-24T06:38:03.057120",
          "exception": false,
          "start_time": "2023-06-24T06:38:03.039732",
          "status": "completed"
        },
        "tags": []
      },
      "outputs": [],
      "source": [
        "yoga_train_images_dir = 'F:/Anaconda_Project/Utilizing_Deep_Learning_for_Human_Pose_Estimation_in_Yoga/DATASET/TRAIN'\n",
        "yoga_test_images_dir = 'F:/Anaconda_Project/Utilizing_Deep_Learning_for_Human_Pose_Estimation_in_Yoga/DATASET/TEST'\n",
        "\n",
        "keypoint_test_dir = 'F:/Anaconda_Project/Utilizing_Deep_Learning_for_Human_Pose_Estimation_in_Yoga/testkeypoints'\n",
        "keypoint_train_dir = 'F:/Anaconda_Project/Utilizing_Deep_Learning_for_Human_Pose_Estimation_in_Yoga/trainkeypoints'"
      ]
    },
    {
      "cell_type": "code",
      "execution_count": 3,
      "id": "21add4e4",
      "metadata": {
        "colab": {
          "base_uri": "https://localhost:8080/"
        },
        "execution": {
          "iopub.execute_input": "2023-06-24T06:38:03.076518Z",
          "iopub.status.busy": "2023-06-24T06:38:03.075960Z",
          "iopub.status.idle": "2023-06-24T06:38:16.799023Z",
          "shell.execute_reply": "2023-06-24T06:38:16.797552Z"
        },
        "id": "21add4e4",
        "outputId": "b9ffb2fc-b6c9-417b-e229-0c6089e662e7",
        "papermill": {
          "duration": 13.734975,
          "end_time": "2023-06-24T06:38:16.801264",
          "exception": false,
          "start_time": "2023-06-24T06:38:03.066289",
          "status": "completed"
        },
        "tags": []
      },
      "outputs": [
        {
          "name": "stdout",
          "output_type": "stream",
          "text": [
            "Collecting tensorflow-io\n",
            "  Downloading tensorflow_io-0.31.0-cp311-cp311-win_amd64.whl (22.9 MB)\n",
            "     ---------------------------------------- 0.0/22.9 MB ? eta -:--:--\n",
            "     ---------------------------------------- 0.0/22.9 MB ? eta -:--:--\n",
            "     --------------------------------------- 0.0/22.9 MB 325.1 kB/s eta 0:01:11\n",
            "     --------------------------------------- 0.1/22.9 MB 465.5 kB/s eta 0:00:49\n",
            "     ---------------------------------------- 0.2/22.9 MB 1.1 MB/s eta 0:00:21\n",
            "      --------------------------------------- 0.5/22.9 MB 2.4 MB/s eta 0:00:10\n",
            "     - -------------------------------------- 0.6/22.9 MB 2.5 MB/s eta 0:00:10\n",
            "     - -------------------------------------- 1.1/22.9 MB 3.5 MB/s eta 0:00:07\n",
            "     -- ------------------------------------- 1.4/22.9 MB 4.1 MB/s eta 0:00:06\n",
            "     --- ------------------------------------ 1.8/22.9 MB 4.6 MB/s eta 0:00:05\n",
            "     --- ------------------------------------ 2.2/22.9 MB 5.1 MB/s eta 0:00:05\n",
            "     ---- ----------------------------------- 2.6/22.9 MB 5.3 MB/s eta 0:00:04\n",
            "     ----- ---------------------------------- 3.0/22.9 MB 5.6 MB/s eta 0:00:04\n",
            "     ------ --------------------------------- 3.5/22.9 MB 6.0 MB/s eta 0:00:04\n",
            "     ------ --------------------------------- 3.9/22.9 MB 6.2 MB/s eta 0:00:04\n",
            "     ------- -------------------------------- 4.2/22.9 MB 6.3 MB/s eta 0:00:03\n",
            "     -------- ------------------------------- 4.7/22.9 MB 6.6 MB/s eta 0:00:03\n",
            "     --------- ------------------------------ 5.2/22.9 MB 6.7 MB/s eta 0:00:03\n",
            "     --------- ------------------------------ 5.5/22.9 MB 6.7 MB/s eta 0:00:03\n",
            "     ---------- ----------------------------- 5.9/22.9 MB 6.8 MB/s eta 0:00:03\n",
            "     ----------- ---------------------------- 6.3/22.9 MB 7.0 MB/s eta 0:00:03\n",
            "     ----------- ---------------------------- 6.3/22.9 MB 7.0 MB/s eta 0:00:03\n",
            "     ----------- ---------------------------- 6.3/22.9 MB 7.0 MB/s eta 0:00:03\n",
            "     ----------- ---------------------------- 6.3/22.9 MB 7.0 MB/s eta 0:00:03\n",
            "     ----------- ---------------------------- 6.3/22.9 MB 7.0 MB/s eta 0:00:03\n",
            "     ----------- ---------------------------- 6.3/22.9 MB 7.0 MB/s eta 0:00:03\n",
            "     ----------- ---------------------------- 6.3/22.9 MB 7.0 MB/s eta 0:00:03\n",
            "     ----------- ---------------------------- 6.3/22.9 MB 7.0 MB/s eta 0:00:03\n",
            "     ----------- ---------------------------- 6.3/22.9 MB 7.0 MB/s eta 0:00:03\n",
            "     ----------- ---------------------------- 6.3/22.9 MB 7.0 MB/s eta 0:00:03\n",
            "     ----------- ---------------------------- 6.3/22.9 MB 7.0 MB/s eta 0:00:03\n",
            "     ----------- ---------------------------- 6.3/22.9 MB 7.0 MB/s eta 0:00:03\n",
            "     ----------- ---------------------------- 6.3/22.9 MB 7.0 MB/s eta 0:00:03\n",
            "     ----------- ---------------------------- 6.3/22.9 MB 7.0 MB/s eta 0:00:03\n",
            "     ----------- ---------------------------- 6.3/22.9 MB 7.0 MB/s eta 0:00:03\n",
            "     ----------- ---------------------------- 6.3/22.9 MB 7.0 MB/s eta 0:00:03\n",
            "     ----------- ---------------------------- 6.3/22.9 MB 7.0 MB/s eta 0:00:03\n",
            "     ----------- ---------------------------- 6.3/22.9 MB 7.0 MB/s eta 0:00:03\n",
            "     ----------- ---------------------------- 6.3/22.9 MB 7.0 MB/s eta 0:00:03\n",
            "     ----------- ---------------------------- 6.3/22.9 MB 7.0 MB/s eta 0:00:03\n",
            "     ----------- ---------------------------- 6.3/22.9 MB 7.0 MB/s eta 0:00:03\n",
            "     ----------- ---------------------------- 6.3/22.9 MB 7.0 MB/s eta 0:00:03\n",
            "     ----------- ---------------------------- 6.3/22.9 MB 7.0 MB/s eta 0:00:03\n",
            "     ----------- ---------------------------- 6.3/22.9 MB 7.0 MB/s eta 0:00:03\n",
            "     ----------- ---------------------------- 6.4/22.9 MB 3.2 MB/s eta 0:00:06\n",
            "     ----------- ---------------------------- 6.8/22.9 MB 3.3 MB/s eta 0:00:05\n",
            "     ------------ --------------------------- 7.2/22.9 MB 3.5 MB/s eta 0:00:05\n",
            "     ------------- -------------------------- 7.7/22.9 MB 3.6 MB/s eta 0:00:05\n",
            "     -------------- ------------------------- 8.1/22.9 MB 3.7 MB/s eta 0:00:05\n",
            "     -------------- ------------------------- 8.4/22.9 MB 3.8 MB/s eta 0:00:04\n",
            "     --------------- ------------------------ 8.8/22.9 MB 3.9 MB/s eta 0:00:04\n",
            "     ---------------- ----------------------- 9.3/22.9 MB 4.0 MB/s eta 0:00:04\n",
            "     ---------------- ----------------------- 9.5/22.9 MB 4.0 MB/s eta 0:00:04\n",
            "     ----------------- ---------------------- 10.0/22.9 MB 4.1 MB/s eta 0:00:04\n",
            "     ------------------ --------------------- 10.5/22.9 MB 4.5 MB/s eta 0:00:03\n",
            "     ------------------- -------------------- 10.9/22.9 MB 4.5 MB/s eta 0:00:03\n",
            "     ------------------- -------------------- 11.3/22.9 MB 4.5 MB/s eta 0:00:03\n",
            "     -------------------- ------------------- 11.7/22.9 MB 4.5 MB/s eta 0:00:03\n",
            "     --------------------- ------------------ 12.2/22.9 MB 4.5 MB/s eta 0:00:03\n",
            "     ---------------------- ----------------- 12.6/22.9 MB 4.5 MB/s eta 0:00:03\n",
            "     ---------------------- ----------------- 12.9/22.9 MB 4.5 MB/s eta 0:00:03\n",
            "     ----------------------- ---------------- 13.3/22.9 MB 4.5 MB/s eta 0:00:03\n",
            "     ----------------------- ---------------- 13.7/22.9 MB 4.5 MB/s eta 0:00:03\n",
            "     ------------------------ --------------- 14.1/22.9 MB 4.5 MB/s eta 0:00:02\n",
            "     ------------------------- -------------- 14.4/22.9 MB 4.5 MB/s eta 0:00:02\n",
            "     -------------------------- ------------- 14.9/22.9 MB 4.5 MB/s eta 0:00:02\n",
            "     -------------------------- ------------- 15.2/22.9 MB 4.5 MB/s eta 0:00:02\n",
            "     --------------------------- ------------ 15.7/22.9 MB 4.5 MB/s eta 0:00:02\n",
            "     ---------------------------- ----------- 16.1/22.9 MB 4.5 MB/s eta 0:00:02\n",
            "     ----------------------------- ---------- 16.6/22.9 MB 8.8 MB/s eta 0:00:01\n",
            "     ----------------------------- ---------- 17.0/22.9 MB 8.8 MB/s eta 0:00:01\n",
            "     ------------------------------ --------- 17.3/22.9 MB 8.7 MB/s eta 0:00:01\n",
            "     ------------------------------ --------- 17.7/22.9 MB 8.8 MB/s eta 0:00:01\n",
            "     ------------------------------- -------- 17.8/22.9 MB 8.7 MB/s eta 0:00:01\n",
            "     ------------------------------- -------- 17.8/22.9 MB 8.2 MB/s eta 0:00:01\n",
            "     ------------------------------- -------- 18.2/22.9 MB 8.2 MB/s eta 0:00:01\n",
            "     -------------------------------- ------- 18.6/22.9 MB 8.3 MB/s eta 0:00:01\n",
            "     --------------------------------- ------ 19.0/22.9 MB 8.3 MB/s eta 0:00:01\n",
            "     --------------------------------- ------ 19.4/22.9 MB 8.3 MB/s eta 0:00:01\n",
            "     ---------------------------------- ----- 19.8/22.9 MB 8.2 MB/s eta 0:00:01\n",
            "     ---------------------------------- ----- 19.9/22.9 MB 8.2 MB/s eta 0:00:01\n",
            "     ---------------------------------- ----- 19.9/22.9 MB 8.2 MB/s eta 0:00:01\n",
            "     ---------------------------------- ----- 19.9/22.9 MB 8.2 MB/s eta 0:00:01\n",
            "     ---------------------------------- ----- 19.9/22.9 MB 8.2 MB/s eta 0:00:01\n",
            "     ----------------------------------- ---- 20.0/22.9 MB 7.0 MB/s eta 0:00:01\n",
            "     ----------------------------------- ---- 20.5/22.9 MB 7.0 MB/s eta 0:00:01\n",
            "     ------------------------------------ --- 20.9/22.9 MB 7.0 MB/s eta 0:00:01\n",
            "     ------------------------------------ --- 21.0/22.9 MB 7.0 MB/s eta 0:00:01\n",
            "     ------------------------------------ --- 21.0/22.9 MB 7.0 MB/s eta 0:00:01\n",
            "     ------------------------------------ --- 21.0/22.9 MB 7.0 MB/s eta 0:00:01\n",
            "     ------------------------------------- -- 21.2/22.9 MB 6.4 MB/s eta 0:00:01\n",
            "     ------------------------------------- -- 21.6/22.9 MB 6.4 MB/s eta 0:00:01\n",
            "     -------------------------------------- - 22.1/22.9 MB 6.4 MB/s eta 0:00:01\n",
            "     ---------------------------------------  22.5/22.9 MB 6.4 MB/s eta 0:00:01\n",
            "     ---------------------------------------  22.9/22.9 MB 6.4 MB/s eta 0:00:01\n",
            "     ---------------------------------------  22.9/22.9 MB 6.4 MB/s eta 0:00:01\n",
            "     ---------------------------------------  22.9/22.9 MB 6.4 MB/s eta 0:00:01\n",
            "     ---------------------------------------  22.9/22.9 MB 6.4 MB/s eta 0:00:01\n",
            "     ---------------------------------------  22.9/22.9 MB 6.4 MB/s eta 0:00:01\n",
            "     ---------------------------------------  22.9/22.9 MB 6.4 MB/s eta 0:00:01\n",
            "     ---------------------------------------  22.9/22.9 MB 6.4 MB/s eta 0:00:01\n",
            "     ---------------------------------------  22.9/22.9 MB 6.4 MB/s eta 0:00:01\n",
            "     ---------------------------------------  22.9/22.9 MB 6.4 MB/s eta 0:00:01\n",
            "     ---------------------------------------  22.9/22.9 MB 6.4 MB/s eta 0:00:01\n",
            "     ---------------------------------------  22.9/22.9 MB 6.4 MB/s eta 0:00:01\n",
            "     ---------------------------------------  22.9/22.9 MB 6.4 MB/s eta 0:00:01\n",
            "     ---------------------------------------- 22.9/22.9 MB 4.7 MB/s eta 0:00:00\n",
            "Requirement already satisfied: tensorflow-io-gcs-filesystem==0.31.0 in f:\\anaconda\\lib\\site-packages (from tensorflow-io) (0.31.0)\n",
            "Installing collected packages: tensorflow-io\n",
            "Successfully installed tensorflow-io-0.31.0\n",
            "Note: you may need to restart the kernel to use updated packages.\n"
          ]
        },
        {
          "name": "stderr",
          "output_type": "stream",
          "text": [
            "DEPRECATION: Loading egg at f:\\anaconda\\lib\\site-packages\\torchlight-1.0-py3.11.egg is deprecated. pip 23.3 will enforce this behaviour change. A possible replacement is to use pip for package installation..\n"
          ]
        }
      ],
      "source": [
        "pip install --upgrade tensorflow-io"
      ]
    },
    {
      "cell_type": "code",
      "execution_count": 4,
      "id": "c67d0b1f",
      "metadata": {
        "execution": {
          "iopub.execute_input": "2023-06-24T06:38:16.825788Z",
          "iopub.status.busy": "2023-06-24T06:38:16.825450Z",
          "iopub.status.idle": "2023-06-24T06:38:26.728999Z",
          "shell.execute_reply": "2023-06-24T06:38:26.727974Z"
        },
        "id": "c67d0b1f",
        "papermill": {
          "duration": 9.925068,
          "end_time": "2023-06-24T06:38:26.737720",
          "exception": false,
          "start_time": "2023-06-24T06:38:16.812652",
          "status": "completed"
        },
        "tags": []
      },
      "outputs": [
        {
          "name": "stdout",
          "output_type": "stream",
          "text": [
            "WARNING:tensorflow:From f:\\Anaconda\\Lib\\site-packages\\keras\\src\\losses.py:2976: The name tf.losses.sparse_softmax_cross_entropy is deprecated. Please use tf.compat.v1.losses.sparse_softmax_cross_entropy instead.\n",
            "\n"
          ]
        }
      ],
      "source": [
        "import cv2\n",
        "import numpy as np\n",
        "import os\n",
        "import tqdm\n",
        "from mediapipe.python.solutions import drawing_utils as mp_drawing\n",
        "from mediapipe.python.solutions import pose as mp_pose"
      ]
    },
    {
      "cell_type": "code",
      "execution_count": 7,
      "id": "2b6fa73d",
      "metadata": {
        "execution": {
          "iopub.execute_input": "2023-06-24T06:38:26.770570Z",
          "iopub.status.busy": "2023-06-24T06:38:26.769761Z",
          "iopub.status.idle": "2023-06-24T06:42:14.143831Z",
          "shell.execute_reply": "2023-06-24T06:42:14.142022Z"
        },
        "id": "2b6fa73d",
        "papermill": {
          "duration": 227.39309,
          "end_time": "2023-06-24T06:42:14.146452",
          "exception": false,
          "start_time": "2023-06-24T06:38:26.753362",
          "status": "completed"
        },
        "tags": []
      },
      "outputs": [
        {
          "name": "stdout",
          "output_type": "stream",
          "text": [
            "Bootstrapping downdog\n"
          ]
        },
        {
          "name": "stderr",
          "output_type": "stream",
          "text": [
            "100%|██████████| 223/223 [01:05<00:00,  3.39it/s]\n"
          ]
        },
        {
          "name": "stdout",
          "output_type": "stream",
          "text": [
            "Bootstrapping goddess\n"
          ]
        },
        {
          "name": "stderr",
          "output_type": "stream",
          "text": [
            "100%|██████████| 180/180 [00:53<00:00,  3.38it/s]\n"
          ]
        },
        {
          "name": "stdout",
          "output_type": "stream",
          "text": [
            "Bootstrapping plank\n"
          ]
        },
        {
          "name": "stderr",
          "output_type": "stream",
          "text": [
            "100%|██████████| 266/266 [01:18<00:00,  3.41it/s]\n"
          ]
        },
        {
          "name": "stdout",
          "output_type": "stream",
          "text": [
            "Bootstrapping tree\n"
          ]
        },
        {
          "name": "stderr",
          "output_type": "stream",
          "text": [
            "100%|██████████| 160/160 [00:48<00:00,  3.28it/s]\n"
          ]
        },
        {
          "name": "stdout",
          "output_type": "stream",
          "text": [
            "Bootstrapping warrior2\n"
          ]
        },
        {
          "name": "stderr",
          "output_type": "stream",
          "text": [
            "100%|██████████| 252/252 [01:14<00:00,  3.40it/s]\n"
          ]
        }
      ],
      "source": [
        "pose_class_names = sorted([n for n in os.listdir(yoga_train_images_dir)])\n",
        "\n",
        "for pose_class_name in pose_class_names:\n",
        "    image_names = sorted([n for n in os.listdir(os.path.join(yoga_train_images_dir, pose_class_name))])\n",
        "\n",
        "    try:\n",
        "        os.makedirs(os.path.join(keypoint_train_dir, pose_class_name))\n",
        "    except:\n",
        "        break\n",
        "\n",
        "    print(\"Bootstrapping\", pose_class_name)\n",
        "    for image_name in tqdm.tqdm(image_names):\n",
        "        input_frame = cv2.imread(os.path.join(yoga_train_images_dir, pose_class_name, image_name))\n",
        "        input_frame = cv2.cvtColor(input_frame, cv2.COLOR_BGR2RGB)\n",
        "\n",
        "        with mp_pose.Pose() as pose_tracker:\n",
        "            result = pose_tracker.process(image=input_frame)\n",
        "            pose_landmarks = result.pose_landmarks\n",
        "\n",
        "        output_frame = input_frame.copy()\n",
        "        mp_drawing.draw_landmarks(image=output_frame, landmark_list=pose_landmarks, connections=mp_pose.POSE_CONNECTIONS)\n",
        "\n",
        "        output_frame = cv2.cvtColor(output_frame, cv2.COLOR_RGB2BGR)\n",
        "        # cv2.imwrite(os.path.join(train_outputs_dir, image_name), output_frame)\n",
        "\n",
        "        if pose_landmarks is not None:\n",
        "            pose_landmarks = [[landmark.x, landmark.y, landmark.z] for landmark in pose_landmarks.landmark]\n",
        "            frame_height, frame_width = output_frame.shape[:2]\n",
        "\n",
        "            # question: does de-normalizing keypoint coordinates affect training? Later, try training network using [0,1] normalization of coordinates instead of absolute\n",
        "            pose_landmarks *= np.array([frame_height, frame_height, frame_width])\n",
        "\n",
        "            pose_landmarks = np.around(pose_landmarks, 5).flatten().astype(np.float32).tolist()\n",
        "\n",
        "            npy_savepath = os.path.join(keypoint_train_dir, pose_class_name, image_name[0:-4]) # remove any .jpg, .png, etc suffix\n",
        "            np.save(npy_savepath, pose_landmarks)"
      ]
    },
    {
      "cell_type": "code",
      "execution_count": 8,
      "id": "sXQc_6spiOH3",
      "metadata": {
        "id": "sXQc_6spiOH3"
      },
      "outputs": [
        {
          "name": "stdout",
          "output_type": "stream",
          "text": [
            "Bootstrapping downdog\n"
          ]
        },
        {
          "name": "stderr",
          "output_type": "stream",
          "text": [
            "100%|██████████| 97/97 [00:29<00:00,  3.28it/s]\n"
          ]
        },
        {
          "name": "stdout",
          "output_type": "stream",
          "text": [
            "Bootstrapping goddess\n"
          ]
        },
        {
          "name": "stderr",
          "output_type": "stream",
          "text": [
            "100%|██████████| 80/80 [00:24<00:00,  3.22it/s]\n"
          ]
        },
        {
          "name": "stdout",
          "output_type": "stream",
          "text": [
            "Bootstrapping plank\n"
          ]
        },
        {
          "name": "stderr",
          "output_type": "stream",
          "text": [
            "100%|██████████| 115/115 [00:36<00:00,  3.17it/s]\n"
          ]
        },
        {
          "name": "stdout",
          "output_type": "stream",
          "text": [
            "Bootstrapping tree\n"
          ]
        },
        {
          "name": "stderr",
          "output_type": "stream",
          "text": [
            "100%|██████████| 69/69 [00:22<00:00,  3.04it/s]\n"
          ]
        },
        {
          "name": "stdout",
          "output_type": "stream",
          "text": [
            "Bootstrapping warrior2\n"
          ]
        },
        {
          "name": "stderr",
          "output_type": "stream",
          "text": [
            "100%|██████████| 109/109 [00:33<00:00,  3.25it/s]\n"
          ]
        }
      ],
      "source": [
        "pose_class_names = sorted([n for n in os.listdir(yoga_test_images_dir)])\n",
        "\n",
        "for pose_class_name in pose_class_names:\n",
        "    image_names = sorted([n for n in os.listdir(os.path.join(yoga_test_images_dir, pose_class_name))])\n",
        "\n",
        "    try:\n",
        "        os.makedirs(os.path.join(keypoint_test_dir, pose_class_name))\n",
        "    except:\n",
        "        break\n",
        "\n",
        "    print(\"Bootstrapping\", pose_class_name)\n",
        "    for image_name in tqdm.tqdm(image_names):\n",
        "        input_frame = cv2.imread(os.path.join(yoga_test_images_dir, pose_class_name, image_name))\n",
        "        input_frame = cv2.cvtColor(input_frame, cv2.COLOR_BGR2RGB)\n",
        "\n",
        "        with mp_pose.Pose() as pose_tracker:\n",
        "            result = pose_tracker.process(image=input_frame)\n",
        "            pose_landmarks = result.pose_landmarks\n",
        "\n",
        "        output_frame = input_frame.copy()\n",
        "        mp_drawing.draw_landmarks(image=output_frame, landmark_list=pose_landmarks, connections=mp_pose.POSE_CONNECTIONS)\n",
        "\n",
        "        output_frame = cv2.cvtColor(output_frame, cv2.COLOR_RGB2BGR)\n",
        "        # cv2.imwrite(os.path.join(train_outputs_dir, image_name), output_frame)\n",
        "\n",
        "        if pose_landmarks is not None:\n",
        "            pose_landmarks = [[landmark.x, landmark.y, landmark.z] for landmark in pose_landmarks.landmark]\n",
        "            frame_height, frame_width = output_frame.shape[:2]\n",
        "\n",
        "            # question: does de-normalizing keypoint coordinates affect training? Later, try training network using [0,1] normalization of coordinates instead of absolute\n",
        "            pose_landmarks *= np.array([frame_height, frame_height, frame_width])\n",
        "\n",
        "            pose_landmarks = np.around(pose_landmarks, 5).flatten().astype(np.float32).tolist()\n",
        "\n",
        "            npy_savepath = os.path.join(keypoint_test_dir, pose_class_name, image_name[0:-4]) # remove any .jpg, .png, etc suffix\n",
        "            np.save(npy_savepath, pose_landmarks)"
      ]
    },
    {
      "cell_type": "code",
      "execution_count": 9,
      "id": "6e7c090f",
      "metadata": {
        "execution": {
          "iopub.execute_input": "2023-06-24T06:42:14.340056Z",
          "iopub.status.busy": "2023-06-24T06:42:14.339725Z",
          "iopub.status.idle": "2023-06-24T06:42:15.167148Z",
          "shell.execute_reply": "2023-06-24T06:42:15.166027Z"
        },
        "id": "6e7c090f",
        "papermill": {
          "duration": 0.923422,
          "end_time": "2023-06-24T06:42:15.170504",
          "exception": false,
          "start_time": "2023-06-24T06:42:14.247082",
          "status": "completed"
        },
        "tags": []
      },
      "outputs": [],
      "source": [
        "from keras.utils import to_categorical\n",
        "from sklearn.model_selection import train_test_split\n",
        "from glob import glob"
      ]
    },
    {
      "cell_type": "code",
      "execution_count": 10,
      "id": "2e94acca",
      "metadata": {
        "colab": {
          "base_uri": "https://localhost:8080/"
        },
        "execution": {
          "iopub.execute_input": "2023-06-24T06:42:15.364513Z",
          "iopub.status.busy": "2023-06-24T06:42:15.363490Z",
          "iopub.status.idle": "2023-06-24T06:42:15.369290Z",
          "shell.execute_reply": "2023-06-24T06:42:15.368364Z"
        },
        "id": "2e94acca",
        "outputId": "ac4c393b-a69c-46b2-d978-b1cf7c3c81f7",
        "papermill": {
          "duration": 0.100819,
          "end_time": "2023-06-24T06:42:15.371583",
          "exception": false,
          "start_time": "2023-06-24T06:42:15.270764",
          "status": "completed"
        },
        "tags": []
      },
      "outputs": [
        {
          "name": "stdout",
          "output_type": "stream",
          "text": [
            "{'downdog': 0, 'goddess': 1, 'plank': 2, 'tree': 3, 'warrior2': 4}\n"
          ]
        }
      ],
      "source": [
        "label_map = {label:num for num,label in enumerate(pose_class_names)}\n",
        "print(label_map)"
      ]
    },
    {
      "cell_type": "code",
      "execution_count": 11,
      "id": "e4f10867",
      "metadata": {
        "colab": {
          "base_uri": "https://localhost:8080/"
        },
        "execution": {
          "iopub.execute_input": "2023-06-24T06:42:15.568631Z",
          "iopub.status.busy": "2023-06-24T06:42:15.568247Z",
          "iopub.status.idle": "2023-06-24T06:42:15.901640Z",
          "shell.execute_reply": "2023-06-24T06:42:15.900372Z"
        },
        "id": "e4f10867",
        "outputId": "ba55b731-9d13-4093-c975-bdb8058eb3cd",
        "papermill": {
          "duration": 0.435593,
          "end_time": "2023-06-24T06:42:15.904047",
          "exception": false,
          "start_time": "2023-06-24T06:42:15.468454",
          "status": "completed"
        },
        "tags": []
      },
      "outputs": [
        {
          "name": "stdout",
          "output_type": "stream",
          "text": [
            "searching through downdog\n"
          ]
        },
        {
          "name": "stderr",
          "output_type": "stream",
          "text": [
            "100%|██████████| 199/199 [00:01<00:00, 122.41it/s]\n"
          ]
        },
        {
          "name": "stdout",
          "output_type": "stream",
          "text": [
            "searching through goddess\n"
          ]
        },
        {
          "name": "stderr",
          "output_type": "stream",
          "text": [
            "100%|██████████| 172/172 [00:01<00:00, 158.31it/s]\n"
          ]
        },
        {
          "name": "stdout",
          "output_type": "stream",
          "text": [
            "searching through plank\n"
          ]
        },
        {
          "name": "stderr",
          "output_type": "stream",
          "text": [
            "100%|██████████| 263/263 [00:01<00:00, 137.72it/s]\n"
          ]
        },
        {
          "name": "stdout",
          "output_type": "stream",
          "text": [
            "searching through tree\n"
          ]
        },
        {
          "name": "stderr",
          "output_type": "stream",
          "text": [
            "100%|██████████| 159/159 [00:01<00:00, 149.78it/s]\n"
          ]
        },
        {
          "name": "stdout",
          "output_type": "stream",
          "text": [
            "searching through warrior2\n"
          ]
        },
        {
          "name": "stderr",
          "output_type": "stream",
          "text": [
            "100%|██████████| 249/249 [00:01<00:00, 177.36it/s]\n"
          ]
        }
      ],
      "source": [
        "sequencestrain, labelstrain = [], []\n",
        "\n",
        "for pose_class_name in pose_class_names:\n",
        "    keypoint_names = glob(os.path.join(keypoint_train_dir, pose_class_name, \"*.npy\"))\n",
        "\n",
        "    print(\"searching through {}\".format(pose_class_name))\n",
        "    for keypoint_name in tqdm.tqdm(keypoint_names):\n",
        "        file = np.load(keypoint_name)\n",
        "        sequencestrain.append(file)\n",
        "        labelstrain.append(label_map[pose_class_name])"
      ]
    },
    {
      "cell_type": "code",
      "execution_count": 12,
      "id": "ClpThDGdj1sl",
      "metadata": {
        "colab": {
          "base_uri": "https://localhost:8080/"
        },
        "id": "ClpThDGdj1sl",
        "outputId": "8c0d5680-f149-4748-8106-66be99a78bd8"
      },
      "outputs": [
        {
          "name": "stdout",
          "output_type": "stream",
          "text": [
            "searching through downdog\n"
          ]
        },
        {
          "name": "stderr",
          "output_type": "stream",
          "text": [
            "100%|██████████| 94/94 [00:00<00:00, 134.32it/s]\n"
          ]
        },
        {
          "name": "stdout",
          "output_type": "stream",
          "text": [
            "searching through goddess\n"
          ]
        },
        {
          "name": "stderr",
          "output_type": "stream",
          "text": [
            "100%|██████████| 80/80 [00:00<00:00, 172.13it/s]\n"
          ]
        },
        {
          "name": "stdout",
          "output_type": "stream",
          "text": [
            "searching through plank\n"
          ]
        },
        {
          "name": "stderr",
          "output_type": "stream",
          "text": [
            "100%|██████████| 115/115 [00:00<00:00, 115.25it/s]\n"
          ]
        },
        {
          "name": "stdout",
          "output_type": "stream",
          "text": [
            "searching through tree\n"
          ]
        },
        {
          "name": "stderr",
          "output_type": "stream",
          "text": [
            "100%|██████████| 69/69 [00:00<00:00, 194.47it/s]\n"
          ]
        },
        {
          "name": "stdout",
          "output_type": "stream",
          "text": [
            "searching through warrior2\n"
          ]
        },
        {
          "name": "stderr",
          "output_type": "stream",
          "text": [
            "100%|██████████| 107/107 [00:00<00:00, 241.33it/s]\n"
          ]
        }
      ],
      "source": [
        "sequencestest, labelstest = [], []\n",
        "\n",
        "for pose_class_name in pose_class_names:\n",
        "    keypoint_names = glob(os.path.join(keypoint_test_dir, pose_class_name, \"*.npy\"))\n",
        "\n",
        "    print(\"searching through {}\".format(pose_class_name))\n",
        "    for keypoint_name in tqdm.tqdm(keypoint_names):\n",
        "        file = np.load(keypoint_name)\n",
        "        sequencestest.append(file)\n",
        "        labelstest.append(label_map[pose_class_name])"
      ]
    },
    {
      "cell_type": "code",
      "execution_count": 13,
      "id": "ace27226",
      "metadata": {
        "colab": {
          "base_uri": "https://localhost:8080/"
        },
        "execution": {
          "iopub.execute_input": "2023-06-24T06:42:16.103625Z",
          "iopub.status.busy": "2023-06-24T06:42:16.102510Z",
          "iopub.status.idle": "2023-06-24T06:42:16.110083Z",
          "shell.execute_reply": "2023-06-24T06:42:16.108459Z"
        },
        "id": "ace27226",
        "outputId": "041224b5-e409-42fb-f70e-dcd49648797a",
        "papermill": {
          "duration": 0.111169,
          "end_time": "2023-06-24T06:42:16.112438",
          "exception": false,
          "start_time": "2023-06-24T06:42:16.001269",
          "status": "completed"
        },
        "tags": []
      },
      "outputs": [
        {
          "name": "stdout",
          "output_type": "stream",
          "text": [
            "downdog\n",
            "goddess\n",
            "plank\n",
            "tree\n",
            "warrior2\n"
          ]
        }
      ],
      "source": [
        "import os\n",
        "\n",
        "directory_path = \"F:/Anaconda_Project/Utilizing_Deep_Learning_for_Human_Pose_Estimation_in_Yoga/trainkeypoints\"\n",
        "\n",
        "# Get the list of elements in the directory\n",
        "elements = os.listdir(directory_path)\n",
        "\n",
        "# Print the elements\n",
        "for element in elements:\n",
        "    print(element)"
      ]
    },
    {
      "cell_type": "code",
      "execution_count": 14,
      "id": "3e565e57",
      "metadata": {
        "colab": {
          "base_uri": "https://localhost:8080/"
        },
        "execution": {
          "iopub.execute_input": "2023-06-24T06:42:16.320416Z",
          "iopub.status.busy": "2023-06-24T06:42:16.320062Z",
          "iopub.status.idle": "2023-06-24T06:42:16.327162Z",
          "shell.execute_reply": "2023-06-24T06:42:16.326268Z"
        },
        "id": "3e565e57",
        "outputId": "2fa52153-54ca-459a-d0e3-55c023cbe107",
        "papermill": {
          "duration": 0.10857,
          "end_time": "2023-06-24T06:42:16.329599",
          "exception": false,
          "start_time": "2023-06-24T06:42:16.221029",
          "status": "completed"
        },
        "tags": []
      },
      "outputs": [
        {
          "name": "stdout",
          "output_type": "stream",
          "text": [
            "1042\n",
            "1042\n",
            "(1042, 99)\n",
            "(1042,)\n"
          ]
        }
      ],
      "source": [
        "print(len(sequencestrain))\n",
        "print(len(labelstrain))\n",
        "\n",
        "print(np.array(sequencestrain).shape) # (1042, 99), 1042 images, 99 for 33(keypoints)x3(coordinates, x,y,z captured)\n",
        "print(np.array(labelstrain).shape) # (1042, 99), 1042 images, 99 for 33(keypoints)x3(coordinates, x,y,z captured)"
      ]
    },
    {
      "cell_type": "code",
      "execution_count": 15,
      "id": "7776c0be",
      "metadata": {
        "execution": {
          "iopub.execute_input": "2023-06-24T06:42:16.518536Z",
          "iopub.status.busy": "2023-06-24T06:42:16.518065Z",
          "iopub.status.idle": "2023-06-24T06:42:16.526282Z",
          "shell.execute_reply": "2023-06-24T06:42:16.524641Z"
        },
        "id": "7776c0be",
        "papermill": {
          "duration": 0.106409,
          "end_time": "2023-06-24T06:42:16.528662",
          "exception": false,
          "start_time": "2023-06-24T06:42:16.422253",
          "status": "completed"
        },
        "tags": []
      },
      "outputs": [],
      "source": [
        "X_train = np.array(sequencestrain)\n",
        "# Ví dụ reshape dữ liệu đầu vào cho LSTM\n",
        "X_train_reshaped = X_train.reshape(X_train.shape[0], 1 ,X_train.shape[1])\n",
        "Y_train = to_categorical(labelstrain).astype(int)\n",
        "X_test = np.array(sequencestest)\n",
        "X_test_reshaped = X_test.reshape(X_test.shape[0], 1 ,X_test.shape[1])\n",
        "Y_test = to_categorical(labelstest).astype(int)\n",
        "#print(y.shape) # 5 categories for currently recorded 5 poses(downdog, goddess, plank, tree, warrior2)"
      ]
    },
    {
      "cell_type": "code",
      "execution_count": 16,
      "id": "fdea4286",
      "metadata": {
        "colab": {
          "base_uri": "https://localhost:8080/"
        },
        "execution": {
          "iopub.execute_input": "2023-06-24T06:42:16.932902Z",
          "iopub.status.busy": "2023-06-24T06:42:16.932535Z",
          "iopub.status.idle": "2023-06-24T06:42:16.937741Z",
          "shell.execute_reply": "2023-06-24T06:42:16.936827Z"
        },
        "id": "fdea4286",
        "outputId": "38cf9fb4-1d35-44a0-ba2b-9e9a9d66b892",
        "papermill": {
          "duration": 0.106291,
          "end_time": "2023-06-24T06:42:16.940219",
          "exception": false,
          "start_time": "2023-06-24T06:42:16.833928",
          "status": "completed"
        },
        "tags": []
      },
      "outputs": [
        {
          "name": "stdout",
          "output_type": "stream",
          "text": [
            "1042 99\n",
            "(1042, 1, 99)\n",
            "465\n"
          ]
        }
      ],
      "source": [
        "print(X_train.shape[0],X_train.shape[1])\n",
        "print(X_train_reshaped.shape)\n",
        "print(len(X_test))"
      ]
    },
    {
      "cell_type": "code",
      "execution_count": 17,
      "id": "6905a12b",
      "metadata": {
        "execution": {
          "iopub.execute_input": "2023-06-24T06:42:17.141423Z",
          "iopub.status.busy": "2023-06-24T06:42:17.141032Z",
          "iopub.status.idle": "2023-06-24T06:42:17.146021Z",
          "shell.execute_reply": "2023-06-24T06:42:17.144935Z"
        },
        "id": "6905a12b",
        "papermill": {
          "duration": 0.109576,
          "end_time": "2023-06-24T06:42:17.148145",
          "exception": false,
          "start_time": "2023-06-24T06:42:17.038569",
          "status": "completed"
        },
        "tags": []
      },
      "outputs": [],
      "source": [
        "from keras.models import Sequential\n",
        "from keras.layers import LSTM, Dense, InputLayer, Dropout,BatchNormalization, Reshape"
      ]
    },
    {
      "cell_type": "code",
      "execution_count": 18,
      "id": "9ed759d0",
      "metadata": {
        "execution": {
          "iopub.execute_input": "2023-06-24T06:42:17.339915Z",
          "iopub.status.busy": "2023-06-24T06:42:17.339038Z",
          "iopub.status.idle": "2023-06-24T06:42:21.695474Z",
          "shell.execute_reply": "2023-06-24T06:42:21.694450Z"
        },
        "id": "9ed759d0",
        "papermill": {
          "duration": 4.456168,
          "end_time": "2023-06-24T06:42:21.697772",
          "exception": false,
          "start_time": "2023-06-24T06:42:17.241604",
          "status": "completed"
        },
        "tags": []
      },
      "outputs": [
        {
          "name": "stdout",
          "output_type": "stream",
          "text": [
            "WARNING:tensorflow:From f:\\Anaconda\\Lib\\site-packages\\keras\\src\\backend.py:1398: The name tf.executing_eagerly_outside_functions is deprecated. Please use tf.compat.v1.executing_eagerly_outside_functions instead.\n",
            "\n"
          ]
        }
      ],
      "source": [
        "model2 = Sequential([\n",
        "    InputLayer(input_shape=(1,99)),\n",
        "    LSTM(64, activation='relu'),\n",
        "    Dense(32, activation='relu'),\n",
        "    Dense(5, activation='softmax')\n",
        "])"
      ]
    },
    {
      "cell_type": "code",
      "execution_count": 19,
      "id": "342919a0",
      "metadata": {
        "colab": {
          "base_uri": "https://localhost:8080/"
        },
        "execution": {
          "iopub.execute_input": "2023-06-24T06:42:21.888004Z",
          "iopub.status.busy": "2023-06-24T06:42:21.887654Z",
          "iopub.status.idle": "2023-06-24T06:42:21.925676Z",
          "shell.execute_reply": "2023-06-24T06:42:21.924697Z"
        },
        "id": "342919a0",
        "outputId": "8b44afac-7fc9-40f7-c3e8-33073ab25658",
        "papermill": {
          "duration": 0.138509,
          "end_time": "2023-06-24T06:42:21.930695",
          "exception": false,
          "start_time": "2023-06-24T06:42:21.792186",
          "status": "completed"
        },
        "tags": []
      },
      "outputs": [
        {
          "name": "stdout",
          "output_type": "stream",
          "text": [
            "WARNING:tensorflow:From f:\\Anaconda\\Lib\\site-packages\\keras\\src\\optimizers\\__init__.py:309: The name tf.train.Optimizer is deprecated. Please use tf.compat.v1.train.Optimizer instead.\n",
            "\n",
            "Model: \"sequential\"\n",
            "_________________________________________________________________\n",
            " Layer (type)                Output Shape              Param #   \n",
            "=================================================================\n",
            " lstm (LSTM)                 (None, 64)                41984     \n",
            "                                                                 \n",
            " dense (Dense)               (None, 32)                2080      \n",
            "                                                                 \n",
            " dense_1 (Dense)             (None, 5)                 165       \n",
            "                                                                 \n",
            "=================================================================\n",
            "Total params: 44229 (172.77 KB)\n",
            "Trainable params: 44229 (172.77 KB)\n",
            "Non-trainable params: 0 (0.00 Byte)\n",
            "_________________________________________________________________\n"
          ]
        }
      ],
      "source": [
        "model2.compile(optimizer=\"Adam\", loss='categorical_crossentropy', metrics=['categorical_accuracy'])\n",
        "model2.summary()"
      ]
    },
    {
      "cell_type": "code",
      "execution_count": 20,
      "id": "d4b188c6",
      "metadata": {
        "colab": {
          "base_uri": "https://localhost:8080/"
        },
        "execution": {
          "iopub.execute_input": "2023-06-24T06:42:22.136177Z",
          "iopub.status.busy": "2023-06-24T06:42:22.135803Z",
          "iopub.status.idle": "2023-06-24T06:43:44.908360Z",
          "shell.execute_reply": "2023-06-24T06:43:44.906349Z"
        },
        "id": "d4b188c6",
        "outputId": "3256063b-b4c0-4411-a910-9cbc57340560",
        "papermill": {
          "duration": 82.881968,
          "end_time": "2023-06-24T06:43:44.910576",
          "exception": false,
          "start_time": "2023-06-24T06:42:22.028608",
          "status": "completed"
        },
        "tags": []
      },
      "outputs": [
        {
          "name": "stdout",
          "output_type": "stream",
          "text": [
            "Epoch 1/500\n",
            "WARNING:tensorflow:From f:\\Anaconda\\Lib\\site-packages\\keras\\src\\utils\\tf_utils.py:492: The name tf.ragged.RaggedTensorValue is deprecated. Please use tf.compat.v1.ragged.RaggedTensorValue instead.\n",
            "\n",
            "WARNING:tensorflow:From f:\\Anaconda\\Lib\\site-packages\\keras\\src\\engine\\base_layer_utils.py:384: The name tf.executing_eagerly_outside_functions is deprecated. Please use tf.compat.v1.executing_eagerly_outside_functions instead.\n",
            "\n",
            "33/33 [==============================] - 4s 4ms/step - loss: 28.8500 - categorical_accuracy: 0.3944\n",
            "Epoch 2/500\n",
            "33/33 [==============================] - 0s 3ms/step - loss: 8.6070 - categorical_accuracy: 0.5307\n",
            "Epoch 3/500\n",
            "33/33 [==============================] - 0s 3ms/step - loss: 4.3190 - categorical_accuracy: 0.6056\n",
            "Epoch 4/500\n",
            "33/33 [==============================] - 0s 2ms/step - loss: 2.5810 - categorical_accuracy: 0.6430\n",
            "Epoch 5/500\n",
            "33/33 [==============================] - 0s 2ms/step - loss: 1.6884 - categorical_accuracy: 0.7198\n",
            "Epoch 6/500\n",
            "33/33 [==============================] - 0s 2ms/step - loss: 1.3237 - categorical_accuracy: 0.7524\n",
            "Epoch 7/500\n",
            "33/33 [==============================] - 0s 3ms/step - loss: 0.9898 - categorical_accuracy: 0.7831\n",
            "Epoch 8/500\n",
            "33/33 [==============================] - 0s 3ms/step - loss: 0.9012 - categorical_accuracy: 0.7965\n",
            "Epoch 9/500\n",
            "33/33 [==============================] - 0s 3ms/step - loss: 0.7893 - categorical_accuracy: 0.7908\n",
            "Epoch 10/500\n",
            "33/33 [==============================] - 0s 2ms/step - loss: 0.6771 - categorical_accuracy: 0.8359\n",
            "Epoch 11/500\n",
            "33/33 [==============================] - 0s 2ms/step - loss: 0.7460 - categorical_accuracy: 0.7956\n",
            "Epoch 12/500\n",
            "33/33 [==============================] - 0s 2ms/step - loss: 0.6115 - categorical_accuracy: 0.8484\n",
            "Epoch 13/500\n",
            "33/33 [==============================] - 0s 2ms/step - loss: 0.5637 - categorical_accuracy: 0.8378\n",
            "Epoch 14/500\n",
            "33/33 [==============================] - 0s 3ms/step - loss: 0.5821 - categorical_accuracy: 0.8522\n",
            "Epoch 15/500\n",
            "33/33 [==============================] - 0s 3ms/step - loss: 0.4765 - categorical_accuracy: 0.8570\n",
            "Epoch 16/500\n",
            "33/33 [==============================] - 0s 3ms/step - loss: 0.5688 - categorical_accuracy: 0.8493\n",
            "Epoch 17/500\n",
            "33/33 [==============================] - 0s 2ms/step - loss: 0.6399 - categorical_accuracy: 0.8407\n",
            "Epoch 18/500\n",
            "33/33 [==============================] - 0s 4ms/step - loss: 0.4696 - categorical_accuracy: 0.8637\n",
            "Epoch 19/500\n",
            "33/33 [==============================] - 0s 2ms/step - loss: 0.4231 - categorical_accuracy: 0.8714\n",
            "Epoch 20/500\n",
            "33/33 [==============================] - 0s 3ms/step - loss: 0.3942 - categorical_accuracy: 0.8695\n",
            "Epoch 21/500\n",
            "33/33 [==============================] - 0s 3ms/step - loss: 0.4187 - categorical_accuracy: 0.8829\n",
            "Epoch 22/500\n",
            "33/33 [==============================] - 0s 2ms/step - loss: 0.3961 - categorical_accuracy: 0.8733\n",
            "Epoch 23/500\n",
            "33/33 [==============================] - 0s 3ms/step - loss: 0.3578 - categorical_accuracy: 0.8935\n",
            "Epoch 24/500\n",
            "33/33 [==============================] - 0s 2ms/step - loss: 0.3240 - categorical_accuracy: 0.9002\n",
            "Epoch 25/500\n",
            "33/33 [==============================] - 0s 3ms/step - loss: 0.3323 - categorical_accuracy: 0.9002\n",
            "Epoch 26/500\n",
            "33/33 [==============================] - 0s 3ms/step - loss: 0.2916 - categorical_accuracy: 0.8925\n",
            "Epoch 27/500\n",
            "33/33 [==============================] - 0s 3ms/step - loss: 0.3205 - categorical_accuracy: 0.8906\n",
            "Epoch 28/500\n",
            "33/33 [==============================] - 0s 2ms/step - loss: 0.3107 - categorical_accuracy: 0.8992\n",
            "Epoch 29/500\n",
            "33/33 [==============================] - 0s 3ms/step - loss: 0.3031 - categorical_accuracy: 0.9079\n",
            "Epoch 30/500\n",
            "33/33 [==============================] - 0s 3ms/step - loss: 0.3091 - categorical_accuracy: 0.8973\n",
            "Epoch 31/500\n",
            "33/33 [==============================] - 0s 3ms/step - loss: 0.3110 - categorical_accuracy: 0.9012\n",
            "Epoch 32/500\n",
            "33/33 [==============================] - 0s 3ms/step - loss: 0.2591 - categorical_accuracy: 0.9117\n",
            "Epoch 33/500\n",
            "33/33 [==============================] - 0s 2ms/step - loss: 0.2468 - categorical_accuracy: 0.9251\n",
            "Epoch 34/500\n",
            "33/33 [==============================] - 0s 3ms/step - loss: 0.2466 - categorical_accuracy: 0.9251\n",
            "Epoch 35/500\n",
            "33/33 [==============================] - 0s 3ms/step - loss: 0.2696 - categorical_accuracy: 0.9069\n",
            "Epoch 36/500\n",
            "33/33 [==============================] - 0s 4ms/step - loss: 0.2978 - categorical_accuracy: 0.8983\n",
            "Epoch 37/500\n",
            "33/33 [==============================] - 0s 2ms/step - loss: 0.4164 - categorical_accuracy: 0.8695\n",
            "Epoch 38/500\n",
            "33/33 [==============================] - 0s 2ms/step - loss: 0.3611 - categorical_accuracy: 0.8791\n",
            "Epoch 39/500\n",
            "33/33 [==============================] - 0s 3ms/step - loss: 0.2983 - categorical_accuracy: 0.9069\n",
            "Epoch 40/500\n",
            "33/33 [==============================] - 0s 2ms/step - loss: 0.3269 - categorical_accuracy: 0.9012\n",
            "Epoch 41/500\n",
            "33/33 [==============================] - 0s 3ms/step - loss: 0.2719 - categorical_accuracy: 0.9107\n",
            "Epoch 42/500\n",
            "33/33 [==============================] - 0s 4ms/step - loss: 0.2968 - categorical_accuracy: 0.9050\n",
            "Epoch 43/500\n",
            "33/33 [==============================] - 0s 3ms/step - loss: 0.2689 - categorical_accuracy: 0.9098\n",
            "Epoch 44/500\n",
            "33/33 [==============================] - 0s 4ms/step - loss: 0.2030 - categorical_accuracy: 0.9386\n",
            "Epoch 45/500\n",
            "33/33 [==============================] - 0s 4ms/step - loss: 0.2113 - categorical_accuracy: 0.9290\n",
            "Epoch 46/500\n",
            "33/33 [==============================] - 0s 3ms/step - loss: 0.2122 - categorical_accuracy: 0.9184\n",
            "Epoch 47/500\n",
            "33/33 [==============================] - 0s 3ms/step - loss: 0.3200 - categorical_accuracy: 0.8992\n",
            "Epoch 48/500\n",
            "33/33 [==============================] - 0s 3ms/step - loss: 0.3563 - categorical_accuracy: 0.9031\n",
            "Epoch 49/500\n",
            "33/33 [==============================] - 0s 4ms/step - loss: 0.3497 - categorical_accuracy: 0.8925\n",
            "Epoch 50/500\n",
            "33/33 [==============================] - 0s 3ms/step - loss: 0.2655 - categorical_accuracy: 0.9098\n",
            "Epoch 51/500\n",
            "33/33 [==============================] - 0s 3ms/step - loss: 0.2174 - categorical_accuracy: 0.9175\n",
            "Epoch 52/500\n",
            "33/33 [==============================] - 0s 3ms/step - loss: 0.1868 - categorical_accuracy: 0.9376\n",
            "Epoch 53/500\n",
            "33/33 [==============================] - 0s 3ms/step - loss: 0.2518 - categorical_accuracy: 0.9165\n",
            "Epoch 54/500\n",
            "33/33 [==============================] - 0s 3ms/step - loss: 0.4933 - categorical_accuracy: 0.8733\n",
            "Epoch 55/500\n",
            "33/33 [==============================] - 0s 3ms/step - loss: 0.5205 - categorical_accuracy: 0.8637\n",
            "Epoch 56/500\n",
            "33/33 [==============================] - 0s 2ms/step - loss: 0.5690 - categorical_accuracy: 0.8522\n",
            "Epoch 57/500\n",
            "33/33 [==============================] - 0s 3ms/step - loss: 0.4637 - categorical_accuracy: 0.8800\n",
            "Epoch 58/500\n",
            "33/33 [==============================] - 0s 2ms/step - loss: 0.3808 - categorical_accuracy: 0.8954\n",
            "Epoch 59/500\n",
            "33/33 [==============================] - 0s 2ms/step - loss: 0.2418 - categorical_accuracy: 0.9213\n",
            "Epoch 60/500\n",
            "33/33 [==============================] - 0s 3ms/step - loss: 0.3396 - categorical_accuracy: 0.9021\n",
            "Epoch 61/500\n",
            "33/33 [==============================] - 0s 2ms/step - loss: 0.3330 - categorical_accuracy: 0.8944\n",
            "Epoch 62/500\n",
            "33/33 [==============================] - 0s 3ms/step - loss: 0.2404 - categorical_accuracy: 0.9194\n",
            "Epoch 63/500\n",
            "33/33 [==============================] - 0s 2ms/step - loss: 0.2943 - categorical_accuracy: 0.9146\n",
            "Epoch 64/500\n",
            "33/33 [==============================] - 0s 3ms/step - loss: 0.5149 - categorical_accuracy: 0.8695\n",
            "Epoch 65/500\n",
            "33/33 [==============================] - 0s 4ms/step - loss: 0.4600 - categorical_accuracy: 0.8733\n",
            "Epoch 66/500\n",
            "33/33 [==============================] - 0s 3ms/step - loss: 0.3417 - categorical_accuracy: 0.8877\n",
            "Epoch 67/500\n",
            "33/33 [==============================] - 0s 3ms/step - loss: 0.2771 - categorical_accuracy: 0.9165\n",
            "Epoch 68/500\n",
            "33/33 [==============================] - 0s 3ms/step - loss: 0.2514 - categorical_accuracy: 0.9098\n",
            "Epoch 69/500\n",
            "33/33 [==============================] - 0s 2ms/step - loss: 0.2578 - categorical_accuracy: 0.9203\n",
            "Epoch 70/500\n",
            "33/33 [==============================] - 0s 3ms/step - loss: 0.2026 - categorical_accuracy: 0.9271\n",
            "Epoch 71/500\n",
            "33/33 [==============================] - 0s 2ms/step - loss: 0.1901 - categorical_accuracy: 0.9386\n",
            "Epoch 72/500\n",
            "33/33 [==============================] - 0s 2ms/step - loss: 0.1650 - categorical_accuracy: 0.9463\n",
            "Epoch 73/500\n",
            "33/33 [==============================] - 0s 2ms/step - loss: 0.1697 - categorical_accuracy: 0.9415\n",
            "Epoch 74/500\n",
            "33/33 [==============================] - 0s 3ms/step - loss: 0.1785 - categorical_accuracy: 0.9443\n",
            "Epoch 75/500\n",
            "33/33 [==============================] - 0s 3ms/step - loss: 0.2667 - categorical_accuracy: 0.9232\n",
            "Epoch 76/500\n",
            "33/33 [==============================] - 0s 2ms/step - loss: 0.2113 - categorical_accuracy: 0.9299\n",
            "Epoch 77/500\n",
            "33/33 [==============================] - 0s 3ms/step - loss: 0.2589 - categorical_accuracy: 0.9261\n",
            "Epoch 78/500\n",
            "33/33 [==============================] - 0s 3ms/step - loss: 0.2127 - categorical_accuracy: 0.9347\n",
            "Epoch 79/500\n",
            "33/33 [==============================] - 0s 3ms/step - loss: 0.2307 - categorical_accuracy: 0.9223\n",
            "Epoch 80/500\n",
            "33/33 [==============================] - 0s 3ms/step - loss: 0.1690 - categorical_accuracy: 0.9415\n",
            "Epoch 81/500\n",
            "33/33 [==============================] - 0s 4ms/step - loss: 0.1659 - categorical_accuracy: 0.9357\n",
            "Epoch 82/500\n",
            "33/33 [==============================] - 0s 3ms/step - loss: 0.2070 - categorical_accuracy: 0.9299\n",
            "Epoch 83/500\n",
            "33/33 [==============================] - 0s 3ms/step - loss: 0.1617 - categorical_accuracy: 0.9463\n",
            "Epoch 84/500\n",
            "33/33 [==============================] - 0s 4ms/step - loss: 0.2054 - categorical_accuracy: 0.9242\n",
            "Epoch 85/500\n",
            "33/33 [==============================] - 0s 4ms/step - loss: 0.3337 - categorical_accuracy: 0.9088\n",
            "Epoch 86/500\n",
            "33/33 [==============================] - 0s 3ms/step - loss: 0.2453 - categorical_accuracy: 0.9155\n",
            "Epoch 87/500\n",
            "33/33 [==============================] - 0s 3ms/step - loss: 0.2270 - categorical_accuracy: 0.9184\n",
            "Epoch 88/500\n",
            "33/33 [==============================] - 0s 3ms/step - loss: 0.2277 - categorical_accuracy: 0.9280\n",
            "Epoch 89/500\n",
            "33/33 [==============================] - 0s 3ms/step - loss: 0.2054 - categorical_accuracy: 0.9309\n",
            "Epoch 90/500\n",
            "33/33 [==============================] - 0s 3ms/step - loss: 0.2368 - categorical_accuracy: 0.9213\n",
            "Epoch 91/500\n",
            "33/33 [==============================] - 0s 3ms/step - loss: 0.3893 - categorical_accuracy: 0.9031\n",
            "Epoch 92/500\n",
            "33/33 [==============================] - 0s 3ms/step - loss: 0.2052 - categorical_accuracy: 0.9280\n",
            "Epoch 93/500\n",
            "33/33 [==============================] - 0s 3ms/step - loss: 0.2771 - categorical_accuracy: 0.9136\n",
            "Epoch 94/500\n",
            "33/33 [==============================] - 0s 3ms/step - loss: 0.2221 - categorical_accuracy: 0.9357\n",
            "Epoch 95/500\n",
            "33/33 [==============================] - 0s 3ms/step - loss: 0.1456 - categorical_accuracy: 0.9491\n",
            "Epoch 96/500\n",
            "33/33 [==============================] - 0s 3ms/step - loss: 0.2740 - categorical_accuracy: 0.9194\n",
            "Epoch 97/500\n",
            "33/33 [==============================] - 0s 3ms/step - loss: 0.2288 - categorical_accuracy: 0.9280\n",
            "Epoch 98/500\n",
            "33/33 [==============================] - 0s 3ms/step - loss: 0.1769 - categorical_accuracy: 0.9434\n",
            "Epoch 99/500\n",
            "33/33 [==============================] - 0s 3ms/step - loss: 0.1402 - categorical_accuracy: 0.9520\n",
            "Epoch 100/500\n",
            "33/33 [==============================] - 0s 6ms/step - loss: 0.1780 - categorical_accuracy: 0.9520\n",
            "Epoch 101/500\n",
            "33/33 [==============================] - 0s 5ms/step - loss: 0.1980 - categorical_accuracy: 0.9424\n",
            "Epoch 102/500\n",
            "33/33 [==============================] - 0s 4ms/step - loss: 0.2707 - categorical_accuracy: 0.9175\n",
            "Epoch 103/500\n",
            "33/33 [==============================] - 0s 4ms/step - loss: 0.2388 - categorical_accuracy: 0.9290\n",
            "Epoch 104/500\n",
            "33/33 [==============================] - 0s 3ms/step - loss: 0.3193 - categorical_accuracy: 0.9107\n",
            "Epoch 105/500\n",
            "33/33 [==============================] - 0s 3ms/step - loss: 0.3517 - categorical_accuracy: 0.8906\n",
            "Epoch 106/500\n",
            "33/33 [==============================] - 0s 3ms/step - loss: 0.1635 - categorical_accuracy: 0.9453\n",
            "Epoch 107/500\n",
            "33/33 [==============================] - 0s 3ms/step - loss: 0.2154 - categorical_accuracy: 0.9319\n",
            "Epoch 108/500\n",
            "33/33 [==============================] - 0s 3ms/step - loss: 0.1856 - categorical_accuracy: 0.9319\n",
            "Epoch 109/500\n",
            "33/33 [==============================] - 0s 3ms/step - loss: 0.1816 - categorical_accuracy: 0.9415\n",
            "Epoch 110/500\n",
            "33/33 [==============================] - 0s 5ms/step - loss: 0.1751 - categorical_accuracy: 0.9434\n",
            "Epoch 111/500\n",
            "33/33 [==============================] - 0s 4ms/step - loss: 0.1508 - categorical_accuracy: 0.9443\n",
            "Epoch 112/500\n",
            "33/33 [==============================] - 0s 6ms/step - loss: 0.1867 - categorical_accuracy: 0.9347\n",
            "Epoch 113/500\n",
            "33/33 [==============================] - 0s 4ms/step - loss: 0.2778 - categorical_accuracy: 0.9242\n",
            "Epoch 114/500\n",
            "33/33 [==============================] - 0s 4ms/step - loss: 0.2032 - categorical_accuracy: 0.9251\n",
            "Epoch 115/500\n",
            "33/33 [==============================] - 0s 4ms/step - loss: 0.3105 - categorical_accuracy: 0.9184\n",
            "Epoch 116/500\n",
            "33/33 [==============================] - 0s 3ms/step - loss: 0.1919 - categorical_accuracy: 0.9415\n",
            "Epoch 117/500\n",
            "33/33 [==============================] - 0s 3ms/step - loss: 0.1792 - categorical_accuracy: 0.9405\n",
            "Epoch 118/500\n",
            "33/33 [==============================] - 0s 3ms/step - loss: 0.1523 - categorical_accuracy: 0.9463\n",
            "Epoch 119/500\n",
            "33/33 [==============================] - 0s 3ms/step - loss: 0.2042 - categorical_accuracy: 0.9367\n",
            "Epoch 120/500\n",
            "33/33 [==============================] - 0s 4ms/step - loss: 0.1614 - categorical_accuracy: 0.9434\n",
            "Epoch 121/500\n",
            "33/33 [==============================] - 0s 4ms/step - loss: 0.1583 - categorical_accuracy: 0.9434\n",
            "Epoch 122/500\n",
            "33/33 [==============================] - 0s 4ms/step - loss: 0.2046 - categorical_accuracy: 0.9405\n",
            "Epoch 123/500\n",
            "33/33 [==============================] - 0s 5ms/step - loss: 0.1272 - categorical_accuracy: 0.9568\n",
            "Epoch 124/500\n",
            "33/33 [==============================] - 0s 3ms/step - loss: 0.1004 - categorical_accuracy: 0.9664\n",
            "Epoch 125/500\n",
            "33/33 [==============================] - 0s 3ms/step - loss: 0.0930 - categorical_accuracy: 0.9664\n",
            "Epoch 126/500\n",
            "33/33 [==============================] - 0s 3ms/step - loss: 0.0967 - categorical_accuracy: 0.9664\n",
            "Epoch 127/500\n",
            "33/33 [==============================] - 0s 3ms/step - loss: 0.0814 - categorical_accuracy: 0.9674\n",
            "Epoch 128/500\n",
            "33/33 [==============================] - 0s 3ms/step - loss: 0.0833 - categorical_accuracy: 0.9741\n",
            "Epoch 129/500\n",
            "33/33 [==============================] - 0s 3ms/step - loss: 0.1010 - categorical_accuracy: 0.9683\n",
            "Epoch 130/500\n",
            "33/33 [==============================] - 0s 3ms/step - loss: 0.1748 - categorical_accuracy: 0.9520\n",
            "Epoch 131/500\n",
            "33/33 [==============================] - 0s 3ms/step - loss: 0.1350 - categorical_accuracy: 0.9549\n",
            "Epoch 132/500\n",
            "33/33 [==============================] - 0s 3ms/step - loss: 0.1717 - categorical_accuracy: 0.9501\n",
            "Epoch 133/500\n",
            "33/33 [==============================] - 0s 3ms/step - loss: 0.1309 - categorical_accuracy: 0.9539\n",
            "Epoch 134/500\n",
            "33/33 [==============================] - 0s 3ms/step - loss: 0.0990 - categorical_accuracy: 0.9664\n",
            "Epoch 135/500\n",
            "33/33 [==============================] - 0s 3ms/step - loss: 0.1240 - categorical_accuracy: 0.9578\n",
            "Epoch 136/500\n",
            "33/33 [==============================] - 0s 3ms/step - loss: 0.1345 - categorical_accuracy: 0.9587\n",
            "Epoch 137/500\n",
            "33/33 [==============================] - 0s 4ms/step - loss: 0.1073 - categorical_accuracy: 0.9626\n",
            "Epoch 138/500\n",
            "33/33 [==============================] - 0s 3ms/step - loss: 0.0809 - categorical_accuracy: 0.9722\n",
            "Epoch 139/500\n",
            "33/33 [==============================] - 0s 2ms/step - loss: 0.0942 - categorical_accuracy: 0.9607\n",
            "Epoch 140/500\n",
            "33/33 [==============================] - 0s 3ms/step - loss: 0.0986 - categorical_accuracy: 0.9568\n",
            "Epoch 141/500\n",
            "33/33 [==============================] - 0s 3ms/step - loss: 0.0872 - categorical_accuracy: 0.9674\n",
            "Epoch 142/500\n",
            "33/33 [==============================] - 0s 3ms/step - loss: 0.2024 - categorical_accuracy: 0.9395\n",
            "Epoch 143/500\n",
            "33/33 [==============================] - 0s 3ms/step - loss: 0.6877 - categorical_accuracy: 0.8656\n",
            "Epoch 144/500\n",
            "33/33 [==============================] - 0s 3ms/step - loss: 0.5249 - categorical_accuracy: 0.8906\n",
            "Epoch 145/500\n",
            "33/33 [==============================] - 0s 3ms/step - loss: 0.3258 - categorical_accuracy: 0.9194\n",
            "Epoch 146/500\n",
            "33/33 [==============================] - 0s 3ms/step - loss: 0.2595 - categorical_accuracy: 0.9223\n",
            "Epoch 147/500\n",
            "33/33 [==============================] - 0s 3ms/step - loss: 0.3406 - categorical_accuracy: 0.9194\n",
            "Epoch 148/500\n",
            "33/33 [==============================] - 0s 3ms/step - loss: 0.2157 - categorical_accuracy: 0.9309\n",
            "Epoch 149/500\n",
            "33/33 [==============================] - 0s 2ms/step - loss: 0.2845 - categorical_accuracy: 0.9232\n",
            "Epoch 150/500\n",
            "33/33 [==============================] - 0s 3ms/step - loss: 0.1759 - categorical_accuracy: 0.9491\n",
            "Epoch 151/500\n",
            "33/33 [==============================] - 0s 3ms/step - loss: 0.1904 - categorical_accuracy: 0.9530\n",
            "Epoch 152/500\n",
            "33/33 [==============================] - 0s 3ms/step - loss: 0.2286 - categorical_accuracy: 0.9271\n",
            "Epoch 153/500\n",
            "33/33 [==============================] - 0s 3ms/step - loss: 0.3164 - categorical_accuracy: 0.9232\n",
            "Epoch 154/500\n",
            "33/33 [==============================] - 0s 3ms/step - loss: 0.2003 - categorical_accuracy: 0.9357\n",
            "Epoch 155/500\n",
            "33/33 [==============================] - 0s 3ms/step - loss: 0.1694 - categorical_accuracy: 0.9443\n",
            "Epoch 156/500\n",
            "33/33 [==============================] - 0s 3ms/step - loss: 0.1657 - categorical_accuracy: 0.9501\n",
            "Epoch 157/500\n",
            "33/33 [==============================] - 0s 3ms/step - loss: 0.1871 - categorical_accuracy: 0.9415\n",
            "Epoch 158/500\n",
            "33/33 [==============================] - 0s 3ms/step - loss: 0.1534 - categorical_accuracy: 0.9530\n",
            "Epoch 159/500\n",
            "33/33 [==============================] - 0s 3ms/step - loss: 0.1222 - categorical_accuracy: 0.9607\n",
            "Epoch 160/500\n",
            "33/33 [==============================] - 0s 2ms/step - loss: 0.3170 - categorical_accuracy: 0.9271\n",
            "Epoch 161/500\n",
            "33/33 [==============================] - 0s 3ms/step - loss: 0.1938 - categorical_accuracy: 0.9376\n",
            "Epoch 162/500\n",
            "33/33 [==============================] - 0s 3ms/step - loss: 0.2774 - categorical_accuracy: 0.9395\n",
            "Epoch 163/500\n",
            "33/33 [==============================] - 0s 3ms/step - loss: 0.2052 - categorical_accuracy: 0.9443\n",
            "Epoch 164/500\n",
            "33/33 [==============================] - 0s 3ms/step - loss: 0.1808 - categorical_accuracy: 0.9482\n",
            "Epoch 165/500\n",
            "33/33 [==============================] - 0s 2ms/step - loss: 0.2376 - categorical_accuracy: 0.9280\n",
            "Epoch 166/500\n",
            "33/33 [==============================] - 0s 2ms/step - loss: 0.4242 - categorical_accuracy: 0.8983\n",
            "Epoch 167/500\n",
            "33/33 [==============================] - 0s 3ms/step - loss: 0.2579 - categorical_accuracy: 0.9223\n",
            "Epoch 168/500\n",
            "33/33 [==============================] - 0s 3ms/step - loss: 0.1538 - categorical_accuracy: 0.9578\n",
            "Epoch 169/500\n",
            "33/33 [==============================] - 0s 3ms/step - loss: 0.1280 - categorical_accuracy: 0.9568\n",
            "Epoch 170/500\n",
            "33/33 [==============================] - 0s 3ms/step - loss: 0.1242 - categorical_accuracy: 0.9674\n",
            "Epoch 171/500\n",
            "33/33 [==============================] - 0s 3ms/step - loss: 0.1127 - categorical_accuracy: 0.9635\n",
            "Epoch 172/500\n",
            "33/33 [==============================] - 0s 3ms/step - loss: 0.2832 - categorical_accuracy: 0.9367\n",
            "Epoch 173/500\n",
            "33/33 [==============================] - 0s 4ms/step - loss: 0.2530 - categorical_accuracy: 0.9203\n",
            "Epoch 174/500\n",
            "33/33 [==============================] - 0s 3ms/step - loss: 0.1388 - categorical_accuracy: 0.9482\n",
            "Epoch 175/500\n",
            "33/33 [==============================] - 0s 3ms/step - loss: 0.1331 - categorical_accuracy: 0.9511\n",
            "Epoch 176/500\n",
            "33/33 [==============================] - 0s 3ms/step - loss: 0.1310 - categorical_accuracy: 0.9539\n",
            "Epoch 177/500\n",
            "33/33 [==============================] - 0s 3ms/step - loss: 0.1242 - categorical_accuracy: 0.9645\n",
            "Epoch 178/500\n",
            "33/33 [==============================] - 0s 3ms/step - loss: 0.0932 - categorical_accuracy: 0.9674\n",
            "Epoch 179/500\n",
            "33/33 [==============================] - 0s 3ms/step - loss: 0.0906 - categorical_accuracy: 0.9683\n",
            "Epoch 180/500\n",
            "33/33 [==============================] - 0s 3ms/step - loss: 0.0786 - categorical_accuracy: 0.9731\n",
            "Epoch 181/500\n",
            "33/33 [==============================] - 0s 3ms/step - loss: 0.0793 - categorical_accuracy: 0.9722\n",
            "Epoch 182/500\n",
            "33/33 [==============================] - 0s 2ms/step - loss: 0.0779 - categorical_accuracy: 0.9712\n",
            "Epoch 183/500\n",
            "33/33 [==============================] - 0s 3ms/step - loss: 0.0688 - categorical_accuracy: 0.9789\n",
            "Epoch 184/500\n",
            "33/33 [==============================] - 0s 3ms/step - loss: 0.0836 - categorical_accuracy: 0.9702\n",
            "Epoch 185/500\n",
            "33/33 [==============================] - 0s 3ms/step - loss: 0.0793 - categorical_accuracy: 0.9760\n",
            "Epoch 186/500\n",
            "33/33 [==============================] - 0s 4ms/step - loss: 0.1102 - categorical_accuracy: 0.9645\n",
            "Epoch 187/500\n",
            "33/33 [==============================] - 0s 3ms/step - loss: 0.0956 - categorical_accuracy: 0.9674\n",
            "Epoch 188/500\n",
            "33/33 [==============================] - 0s 3ms/step - loss: 0.2008 - categorical_accuracy: 0.9386\n",
            "Epoch 189/500\n",
            "33/33 [==============================] - 0s 3ms/step - loss: 0.2147 - categorical_accuracy: 0.9491\n",
            "Epoch 190/500\n",
            "33/33 [==============================] - 0s 2ms/step - loss: 0.2066 - categorical_accuracy: 0.9511\n",
            "Epoch 191/500\n",
            "33/33 [==============================] - 0s 3ms/step - loss: 0.0953 - categorical_accuracy: 0.9683\n",
            "Epoch 192/500\n",
            "33/33 [==============================] - 0s 3ms/step - loss: 0.1241 - categorical_accuracy: 0.9607\n",
            "Epoch 193/500\n",
            "33/33 [==============================] - 0s 2ms/step - loss: 0.3549 - categorical_accuracy: 0.9165\n",
            "Epoch 194/500\n",
            "33/33 [==============================] - 0s 2ms/step - loss: 0.3659 - categorical_accuracy: 0.9146\n",
            "Epoch 195/500\n",
            "33/33 [==============================] - 0s 3ms/step - loss: 0.5670 - categorical_accuracy: 0.8704\n",
            "Epoch 196/500\n",
            "33/33 [==============================] - 0s 3ms/step - loss: 0.7507 - categorical_accuracy: 0.8426\n",
            "Epoch 197/500\n",
            "33/33 [==============================] - 0s 3ms/step - loss: 0.5974 - categorical_accuracy: 0.8599\n",
            "Epoch 198/500\n",
            "33/33 [==============================] - 0s 2ms/step - loss: 0.3606 - categorical_accuracy: 0.9107\n",
            "Epoch 199/500\n",
            "33/33 [==============================] - 0s 3ms/step - loss: 0.2552 - categorical_accuracy: 0.9251\n",
            "Epoch 200/500\n",
            "33/33 [==============================] - 0s 4ms/step - loss: 0.1804 - categorical_accuracy: 0.9443\n",
            "Epoch 201/500\n",
            "33/33 [==============================] - 0s 2ms/step - loss: 0.1749 - categorical_accuracy: 0.9376\n",
            "Epoch 202/500\n",
            "33/33 [==============================] - 0s 2ms/step - loss: 0.1372 - categorical_accuracy: 0.9530\n",
            "Epoch 203/500\n",
            "33/33 [==============================] - 0s 3ms/step - loss: 0.1513 - categorical_accuracy: 0.9472\n",
            "Epoch 204/500\n",
            "33/33 [==============================] - 0s 3ms/step - loss: 0.2657 - categorical_accuracy: 0.9271\n",
            "Epoch 205/500\n",
            "33/33 [==============================] - 0s 2ms/step - loss: 0.1778 - categorical_accuracy: 0.9482\n",
            "Epoch 206/500\n",
            "33/33 [==============================] - 0s 2ms/step - loss: 0.1226 - categorical_accuracy: 0.9607\n",
            "Epoch 207/500\n",
            "33/33 [==============================] - 0s 2ms/step - loss: 0.1296 - categorical_accuracy: 0.9626\n",
            "Epoch 208/500\n",
            "33/33 [==============================] - 0s 2ms/step - loss: 0.0940 - categorical_accuracy: 0.9616\n",
            "Epoch 209/500\n",
            "33/33 [==============================] - 0s 2ms/step - loss: 0.0860 - categorical_accuracy: 0.9741\n",
            "Epoch 210/500\n",
            "33/33 [==============================] - 0s 2ms/step - loss: 0.0937 - categorical_accuracy: 0.9702\n",
            "Epoch 211/500\n",
            "33/33 [==============================] - 0s 3ms/step - loss: 0.1025 - categorical_accuracy: 0.9683\n",
            "Epoch 212/500\n",
            "33/33 [==============================] - 0s 3ms/step - loss: 0.0973 - categorical_accuracy: 0.9664\n",
            "Epoch 213/500\n",
            "33/33 [==============================] - 0s 3ms/step - loss: 0.1105 - categorical_accuracy: 0.9664\n",
            "Epoch 214/500\n",
            "33/33 [==============================] - 0s 4ms/step - loss: 0.1075 - categorical_accuracy: 0.9626\n",
            "Epoch 215/500\n",
            "33/33 [==============================] - 0s 2ms/step - loss: 0.1163 - categorical_accuracy: 0.9607\n",
            "Epoch 216/500\n",
            "33/33 [==============================] - 0s 3ms/step - loss: 0.0867 - categorical_accuracy: 0.9731\n",
            "Epoch 217/500\n",
            "33/33 [==============================] - 0s 2ms/step - loss: 0.0757 - categorical_accuracy: 0.9712\n",
            "Epoch 218/500\n",
            "33/33 [==============================] - 0s 2ms/step - loss: 0.0784 - categorical_accuracy: 0.9712\n",
            "Epoch 219/500\n",
            "33/33 [==============================] - 0s 2ms/step - loss: 0.0957 - categorical_accuracy: 0.9664\n",
            "Epoch 220/500\n",
            "33/33 [==============================] - 0s 2ms/step - loss: 0.1115 - categorical_accuracy: 0.9645\n",
            "Epoch 221/500\n",
            "33/33 [==============================] - 0s 2ms/step - loss: 0.0997 - categorical_accuracy: 0.9683\n",
            "Epoch 222/500\n",
            "33/33 [==============================] - 0s 2ms/step - loss: 0.0882 - categorical_accuracy: 0.9722\n",
            "Epoch 223/500\n",
            "33/33 [==============================] - 0s 3ms/step - loss: 0.1004 - categorical_accuracy: 0.9693\n",
            "Epoch 224/500\n",
            "33/33 [==============================] - 0s 3ms/step - loss: 0.0721 - categorical_accuracy: 0.9760\n",
            "Epoch 225/500\n",
            "33/33 [==============================] - 0s 4ms/step - loss: 0.0762 - categorical_accuracy: 0.9750\n",
            "Epoch 226/500\n",
            "33/33 [==============================] - 0s 5ms/step - loss: 0.0745 - categorical_accuracy: 0.9741\n",
            "Epoch 227/500\n",
            "33/33 [==============================] - 0s 4ms/step - loss: 0.0809 - categorical_accuracy: 0.9693\n",
            "Epoch 228/500\n",
            "33/33 [==============================] - 0s 4ms/step - loss: 0.0828 - categorical_accuracy: 0.9731\n",
            "Epoch 229/500\n",
            "33/33 [==============================] - 0s 4ms/step - loss: 0.0726 - categorical_accuracy: 0.9741\n",
            "Epoch 230/500\n",
            "33/33 [==============================] - 0s 3ms/step - loss: 0.1007 - categorical_accuracy: 0.9674\n",
            "Epoch 231/500\n",
            "33/33 [==============================] - 0s 3ms/step - loss: 0.1279 - categorical_accuracy: 0.9626\n",
            "Epoch 232/500\n",
            "33/33 [==============================] - 0s 5ms/step - loss: 0.2506 - categorical_accuracy: 0.9299\n",
            "Epoch 233/500\n",
            "33/33 [==============================] - 0s 4ms/step - loss: 0.2313 - categorical_accuracy: 0.9309\n",
            "Epoch 234/500\n",
            "33/33 [==============================] - 0s 4ms/step - loss: 0.2856 - categorical_accuracy: 0.9242\n",
            "Epoch 235/500\n",
            "33/33 [==============================] - 0s 5ms/step - loss: 0.3712 - categorical_accuracy: 0.9136\n",
            "Epoch 236/500\n",
            "33/33 [==============================] - 0s 4ms/step - loss: 0.1628 - categorical_accuracy: 0.9491\n",
            "Epoch 237/500\n",
            "33/33 [==============================] - 0s 5ms/step - loss: 0.1117 - categorical_accuracy: 0.9607\n",
            "Epoch 238/500\n",
            "33/33 [==============================] - 0s 4ms/step - loss: 0.1899 - categorical_accuracy: 0.9482\n",
            "Epoch 239/500\n",
            "33/33 [==============================] - 0s 4ms/step - loss: 0.1221 - categorical_accuracy: 0.9635\n",
            "Epoch 240/500\n",
            "33/33 [==============================] - 0s 3ms/step - loss: 0.2138 - categorical_accuracy: 0.9530\n",
            "Epoch 241/500\n",
            "33/33 [==============================] - 0s 4ms/step - loss: 0.2457 - categorical_accuracy: 0.9367\n",
            "Epoch 242/500\n",
            "33/33 [==============================] - 0s 3ms/step - loss: 0.1490 - categorical_accuracy: 0.9597\n",
            "Epoch 243/500\n",
            "33/33 [==============================] - 0s 4ms/step - loss: 0.0814 - categorical_accuracy: 0.9702\n",
            "Epoch 244/500\n",
            "33/33 [==============================] - 0s 3ms/step - loss: 0.1062 - categorical_accuracy: 0.9664\n",
            "Epoch 245/500\n",
            "33/33 [==============================] - 0s 4ms/step - loss: 0.1398 - categorical_accuracy: 0.9616\n",
            "Epoch 246/500\n",
            "33/33 [==============================] - 0s 5ms/step - loss: 0.1153 - categorical_accuracy: 0.9674\n",
            "Epoch 247/500\n",
            "33/33 [==============================] - 0s 4ms/step - loss: 0.1453 - categorical_accuracy: 0.9443\n",
            "Epoch 248/500\n",
            "33/33 [==============================] - 0s 4ms/step - loss: 0.1201 - categorical_accuracy: 0.9645\n",
            "Epoch 249/500\n",
            "33/33 [==============================] - 0s 4ms/step - loss: 0.1257 - categorical_accuracy: 0.9568\n",
            "Epoch 250/500\n",
            "33/33 [==============================] - 0s 5ms/step - loss: 0.1451 - categorical_accuracy: 0.9645\n",
            "Epoch 251/500\n",
            "33/33 [==============================] - 0s 5ms/step - loss: 0.1177 - categorical_accuracy: 0.9607\n",
            "Epoch 252/500\n",
            "33/33 [==============================] - 0s 4ms/step - loss: 0.1564 - categorical_accuracy: 0.9511\n",
            "Epoch 253/500\n",
            "33/33 [==============================] - 0s 4ms/step - loss: 0.1240 - categorical_accuracy: 0.9568\n",
            "Epoch 254/500\n",
            "33/33 [==============================] - 0s 4ms/step - loss: 0.0879 - categorical_accuracy: 0.9655\n",
            "Epoch 255/500\n",
            "33/33 [==============================] - 0s 6ms/step - loss: 0.1295 - categorical_accuracy: 0.9559\n",
            "Epoch 256/500\n",
            "33/33 [==============================] - 0s 5ms/step - loss: 0.1896 - categorical_accuracy: 0.9472\n",
            "Epoch 257/500\n",
            "33/33 [==============================] - 0s 5ms/step - loss: 0.1117 - categorical_accuracy: 0.9616\n",
            "Epoch 258/500\n",
            "33/33 [==============================] - 0s 5ms/step - loss: 0.1600 - categorical_accuracy: 0.9539\n",
            "Epoch 259/500\n",
            "33/33 [==============================] - 0s 6ms/step - loss: 0.1604 - categorical_accuracy: 0.9520\n",
            "Epoch 260/500\n",
            "33/33 [==============================] - 0s 5ms/step - loss: 0.1042 - categorical_accuracy: 0.9626\n",
            "Epoch 261/500\n",
            "33/33 [==============================] - 0s 5ms/step - loss: 0.0701 - categorical_accuracy: 0.9722\n",
            "Epoch 262/500\n",
            "33/33 [==============================] - 0s 4ms/step - loss: 0.1393 - categorical_accuracy: 0.9587\n",
            "Epoch 263/500\n",
            "33/33 [==============================] - 0s 6ms/step - loss: 0.0997 - categorical_accuracy: 0.9664\n",
            "Epoch 264/500\n",
            "33/33 [==============================] - 0s 4ms/step - loss: 0.0606 - categorical_accuracy: 0.9789\n",
            "Epoch 265/500\n",
            "33/33 [==============================] - 0s 4ms/step - loss: 0.0502 - categorical_accuracy: 0.9789\n",
            "Epoch 266/500\n",
            "33/33 [==============================] - 0s 4ms/step - loss: 0.0726 - categorical_accuracy: 0.9798\n",
            "Epoch 267/500\n",
            "33/33 [==============================] - 0s 4ms/step - loss: 0.0964 - categorical_accuracy: 0.9655\n",
            "Epoch 268/500\n",
            "33/33 [==============================] - 0s 5ms/step - loss: 0.0963 - categorical_accuracy: 0.9693\n",
            "Epoch 269/500\n",
            "33/33 [==============================] - 0s 4ms/step - loss: 0.1913 - categorical_accuracy: 0.9443\n",
            "Epoch 270/500\n",
            "33/33 [==============================] - 0s 4ms/step - loss: 0.2101 - categorical_accuracy: 0.9367\n",
            "Epoch 271/500\n",
            "33/33 [==============================] - 0s 3ms/step - loss: 0.2400 - categorical_accuracy: 0.9453\n",
            "Epoch 272/500\n",
            "33/33 [==============================] - 0s 3ms/step - loss: 0.1845 - categorical_accuracy: 0.9530\n",
            "Epoch 273/500\n",
            "33/33 [==============================] - 0s 3ms/step - loss: 0.2727 - categorical_accuracy: 0.9472\n",
            "Epoch 274/500\n",
            "33/33 [==============================] - 0s 4ms/step - loss: 0.4687 - categorical_accuracy: 0.9136\n",
            "Epoch 275/500\n",
            "33/33 [==============================] - 0s 4ms/step - loss: 0.3606 - categorical_accuracy: 0.9223\n",
            "Epoch 276/500\n",
            "33/33 [==============================] - 0s 4ms/step - loss: 0.1429 - categorical_accuracy: 0.9587\n",
            "Epoch 277/500\n",
            "33/33 [==============================] - 0s 3ms/step - loss: 0.1235 - categorical_accuracy: 0.9674\n",
            "Epoch 278/500\n",
            "33/33 [==============================] - 0s 3ms/step - loss: 0.1096 - categorical_accuracy: 0.9674\n",
            "Epoch 279/500\n",
            "33/33 [==============================] - 0s 3ms/step - loss: 0.0788 - categorical_accuracy: 0.9741\n",
            "Epoch 280/500\n",
            "33/33 [==============================] - 0s 3ms/step - loss: 0.2387 - categorical_accuracy: 0.9376\n",
            "Epoch 281/500\n",
            "33/33 [==============================] - 0s 4ms/step - loss: 0.4494 - categorical_accuracy: 0.9107\n",
            "Epoch 282/500\n",
            "33/33 [==============================] - 0s 3ms/step - loss: 0.3268 - categorical_accuracy: 0.9251\n",
            "Epoch 283/500\n",
            "33/33 [==============================] - 0s 4ms/step - loss: 0.3388 - categorical_accuracy: 0.9309\n",
            "Epoch 284/500\n",
            "33/33 [==============================] - 0s 3ms/step - loss: 0.3035 - categorical_accuracy: 0.9242\n",
            "Epoch 285/500\n",
            "33/33 [==============================] - 0s 4ms/step - loss: 0.2329 - categorical_accuracy: 0.9539\n",
            "Epoch 286/500\n",
            "33/33 [==============================] - 0s 3ms/step - loss: 0.1077 - categorical_accuracy: 0.9626\n",
            "Epoch 287/500\n",
            "33/33 [==============================] - 0s 2ms/step - loss: 0.0930 - categorical_accuracy: 0.9674\n",
            "Epoch 288/500\n",
            "33/33 [==============================] - 0s 2ms/step - loss: 0.1219 - categorical_accuracy: 0.9616\n",
            "Epoch 289/500\n",
            "33/33 [==============================] - 0s 3ms/step - loss: 0.1188 - categorical_accuracy: 0.9635\n",
            "Epoch 290/500\n",
            "33/33 [==============================] - 0s 2ms/step - loss: 0.1184 - categorical_accuracy: 0.9549\n",
            "Epoch 291/500\n",
            "33/33 [==============================] - 0s 2ms/step - loss: 0.2377 - categorical_accuracy: 0.9482\n",
            "Epoch 292/500\n",
            "33/33 [==============================] - 0s 2ms/step - loss: 0.1080 - categorical_accuracy: 0.9626\n",
            "Epoch 293/500\n",
            "33/33 [==============================] - 0s 3ms/step - loss: 0.0809 - categorical_accuracy: 0.9712\n",
            "Epoch 294/500\n",
            "33/33 [==============================] - 0s 3ms/step - loss: 0.0843 - categorical_accuracy: 0.9741\n",
            "Epoch 295/500\n",
            "33/33 [==============================] - 0s 3ms/step - loss: 0.1032 - categorical_accuracy: 0.9722\n",
            "Epoch 296/500\n",
            "33/33 [==============================] - 0s 3ms/step - loss: 0.1257 - categorical_accuracy: 0.9616\n",
            "Epoch 297/500\n",
            "33/33 [==============================] - 0s 4ms/step - loss: 0.0992 - categorical_accuracy: 0.9693\n",
            "Epoch 298/500\n",
            "33/33 [==============================] - 0s 3ms/step - loss: 0.1106 - categorical_accuracy: 0.9655\n",
            "Epoch 299/500\n",
            "33/33 [==============================] - 0s 3ms/step - loss: 0.1166 - categorical_accuracy: 0.9693\n",
            "Epoch 300/500\n",
            "33/33 [==============================] - 0s 3ms/step - loss: 0.1748 - categorical_accuracy: 0.9511\n",
            "Epoch 301/500\n",
            "33/33 [==============================] - 0s 3ms/step - loss: 0.2482 - categorical_accuracy: 0.9386\n",
            "Epoch 302/500\n",
            "33/33 [==============================] - 0s 3ms/step - loss: 0.2387 - categorical_accuracy: 0.9549\n",
            "Epoch 303/500\n",
            "33/33 [==============================] - 0s 3ms/step - loss: 0.1133 - categorical_accuracy: 0.9635\n",
            "Epoch 304/500\n",
            "33/33 [==============================] - 0s 3ms/step - loss: 0.0752 - categorical_accuracy: 0.9750\n",
            "Epoch 305/500\n",
            "33/33 [==============================] - 0s 2ms/step - loss: 0.0726 - categorical_accuracy: 0.9693\n",
            "Epoch 306/500\n",
            "33/33 [==============================] - 0s 2ms/step - loss: 0.0720 - categorical_accuracy: 0.9770\n",
            "Epoch 307/500\n",
            "33/33 [==============================] - 0s 3ms/step - loss: 0.0797 - categorical_accuracy: 0.9750\n",
            "Epoch 308/500\n",
            "33/33 [==============================] - 0s 2ms/step - loss: 0.0774 - categorical_accuracy: 0.9702\n",
            "Epoch 309/500\n",
            "33/33 [==============================] - 0s 2ms/step - loss: 0.0765 - categorical_accuracy: 0.9702\n",
            "Epoch 310/500\n",
            "33/33 [==============================] - 0s 4ms/step - loss: 0.0620 - categorical_accuracy: 0.9741\n",
            "Epoch 311/500\n",
            "33/33 [==============================] - 0s 2ms/step - loss: 0.0878 - categorical_accuracy: 0.9750\n",
            "Epoch 312/500\n",
            "33/33 [==============================] - 0s 2ms/step - loss: 0.0708 - categorical_accuracy: 0.9760\n",
            "Epoch 313/500\n",
            "33/33 [==============================] - 0s 3ms/step - loss: 0.0455 - categorical_accuracy: 0.9789\n",
            "Epoch 314/500\n",
            "33/33 [==============================] - 0s 2ms/step - loss: 0.0432 - categorical_accuracy: 0.9866\n",
            "Epoch 315/500\n",
            "33/33 [==============================] - 0s 3ms/step - loss: 0.0436 - categorical_accuracy: 0.9827\n",
            "Epoch 316/500\n",
            "33/33 [==============================] - 0s 3ms/step - loss: 0.0331 - categorical_accuracy: 0.9894\n",
            "Epoch 317/500\n",
            "33/33 [==============================] - 0s 2ms/step - loss: 0.0393 - categorical_accuracy: 0.9846\n",
            "Epoch 318/500\n",
            "33/33 [==============================] - 0s 2ms/step - loss: 0.0567 - categorical_accuracy: 0.9837\n",
            "Epoch 319/500\n",
            "33/33 [==============================] - 0s 3ms/step - loss: 0.1108 - categorical_accuracy: 0.9645\n",
            "Epoch 320/500\n",
            "33/33 [==============================] - 0s 2ms/step - loss: 0.7605 - categorical_accuracy: 0.8810\n",
            "Epoch 321/500\n",
            "33/33 [==============================] - 0s 4ms/step - loss: 0.6763 - categorical_accuracy: 0.8724\n",
            "Epoch 322/500\n",
            "33/33 [==============================] - 0s 3ms/step - loss: 0.3441 - categorical_accuracy: 0.9213\n",
            "Epoch 323/500\n",
            "33/33 [==============================] - 0s 2ms/step - loss: 0.3002 - categorical_accuracy: 0.9251\n",
            "Epoch 324/500\n",
            "33/33 [==============================] - 0s 2ms/step - loss: 0.2411 - categorical_accuracy: 0.9405\n",
            "Epoch 325/500\n",
            "33/33 [==============================] - 0s 3ms/step - loss: 0.1471 - categorical_accuracy: 0.9635\n",
            "Epoch 326/500\n",
            "33/33 [==============================] - 0s 2ms/step - loss: 0.1281 - categorical_accuracy: 0.9559\n",
            "Epoch 327/500\n",
            "33/33 [==============================] - 0s 2ms/step - loss: 0.1964 - categorical_accuracy: 0.9434\n",
            "Epoch 328/500\n",
            "33/33 [==============================] - 0s 3ms/step - loss: 0.1460 - categorical_accuracy: 0.9530\n",
            "Epoch 329/500\n",
            "33/33 [==============================] - 0s 3ms/step - loss: 0.0943 - categorical_accuracy: 0.9693\n",
            "Epoch 330/500\n",
            "33/33 [==============================] - 0s 3ms/step - loss: 0.0976 - categorical_accuracy: 0.9693\n",
            "Epoch 331/500\n",
            "33/33 [==============================] - 0s 3ms/step - loss: 0.0665 - categorical_accuracy: 0.9779\n",
            "Epoch 332/500\n",
            "33/33 [==============================] - 0s 4ms/step - loss: 0.0689 - categorical_accuracy: 0.9770\n",
            "Epoch 333/500\n",
            "33/33 [==============================] - 0s 3ms/step - loss: 0.1735 - categorical_accuracy: 0.9674\n",
            "Epoch 334/500\n",
            "33/33 [==============================] - 0s 2ms/step - loss: 0.1510 - categorical_accuracy: 0.9568\n",
            "Epoch 335/500\n",
            "33/33 [==============================] - 0s 3ms/step - loss: 0.1289 - categorical_accuracy: 0.9635\n",
            "Epoch 336/500\n",
            "33/33 [==============================] - 0s 2ms/step - loss: 0.2221 - categorical_accuracy: 0.9367\n",
            "Epoch 337/500\n",
            "33/33 [==============================] - 0s 3ms/step - loss: 0.1562 - categorical_accuracy: 0.9530\n",
            "Epoch 338/500\n",
            "33/33 [==============================] - 0s 2ms/step - loss: 0.2743 - categorical_accuracy: 0.9520\n",
            "Epoch 339/500\n",
            "33/33 [==============================] - 0s 2ms/step - loss: 0.3799 - categorical_accuracy: 0.9136\n",
            "Epoch 340/500\n",
            "33/33 [==============================] - 0s 2ms/step - loss: 0.1464 - categorical_accuracy: 0.9655\n",
            "Epoch 341/500\n",
            "33/33 [==============================] - 0s 2ms/step - loss: 0.0925 - categorical_accuracy: 0.9731\n",
            "Epoch 342/500\n",
            "33/33 [==============================] - 0s 3ms/step - loss: 0.0859 - categorical_accuracy: 0.9683\n",
            "Epoch 343/500\n",
            "33/33 [==============================] - 0s 4ms/step - loss: 0.1238 - categorical_accuracy: 0.9597\n",
            "Epoch 344/500\n",
            "33/33 [==============================] - 0s 2ms/step - loss: 0.1194 - categorical_accuracy: 0.9664\n",
            "Epoch 345/500\n",
            "33/33 [==============================] - 0s 2ms/step - loss: 0.1041 - categorical_accuracy: 0.9683\n",
            "Epoch 346/500\n",
            "33/33 [==============================] - 0s 2ms/step - loss: 0.1451 - categorical_accuracy: 0.9587\n",
            "Epoch 347/500\n",
            "33/33 [==============================] - 0s 3ms/step - loss: 0.0776 - categorical_accuracy: 0.9750\n",
            "Epoch 348/500\n",
            "33/33 [==============================] - 0s 2ms/step - loss: 0.0641 - categorical_accuracy: 0.9808\n",
            "Epoch 349/500\n",
            "33/33 [==============================] - 0s 2ms/step - loss: 0.0528 - categorical_accuracy: 0.9856\n",
            "Epoch 350/500\n",
            "33/33 [==============================] - 0s 3ms/step - loss: 0.0505 - categorical_accuracy: 0.9846\n",
            "Epoch 351/500\n",
            "33/33 [==============================] - 0s 3ms/step - loss: 0.0546 - categorical_accuracy: 0.9856\n",
            "Epoch 352/500\n",
            "33/33 [==============================] - 0s 2ms/step - loss: 0.0518 - categorical_accuracy: 0.9856\n",
            "Epoch 353/500\n",
            "33/33 [==============================] - 0s 4ms/step - loss: 0.0825 - categorical_accuracy: 0.9770\n",
            "Epoch 354/500\n",
            "33/33 [==============================] - 0s 3ms/step - loss: 0.0474 - categorical_accuracy: 0.9856\n",
            "Epoch 355/500\n",
            "33/33 [==============================] - 0s 2ms/step - loss: 0.0410 - categorical_accuracy: 0.9914\n",
            "Epoch 356/500\n",
            "33/33 [==============================] - 0s 2ms/step - loss: 0.0381 - categorical_accuracy: 0.9894\n",
            "Epoch 357/500\n",
            "33/33 [==============================] - 0s 3ms/step - loss: 0.0383 - categorical_accuracy: 0.9904\n",
            "Epoch 358/500\n",
            "33/33 [==============================] - 0s 2ms/step - loss: 0.0381 - categorical_accuracy: 0.9875\n",
            "Epoch 359/500\n",
            "33/33 [==============================] - 0s 3ms/step - loss: 0.0389 - categorical_accuracy: 0.9923\n",
            "Epoch 360/500\n",
            "33/33 [==============================] - 0s 3ms/step - loss: 0.0392 - categorical_accuracy: 0.9923\n",
            "Epoch 361/500\n",
            "33/33 [==============================] - 0s 3ms/step - loss: 0.0483 - categorical_accuracy: 0.9827\n",
            "Epoch 362/500\n",
            "33/33 [==============================] - 0s 3ms/step - loss: 0.0591 - categorical_accuracy: 0.9856\n",
            "Epoch 363/500\n",
            "33/33 [==============================] - 0s 4ms/step - loss: 0.1116 - categorical_accuracy: 0.9779\n",
            "Epoch 364/500\n",
            "33/33 [==============================] - 0s 2ms/step - loss: 0.0679 - categorical_accuracy: 0.9818\n",
            "Epoch 365/500\n",
            "33/33 [==============================] - 0s 2ms/step - loss: 0.1060 - categorical_accuracy: 0.9741\n",
            "Epoch 366/500\n",
            "33/33 [==============================] - 0s 2ms/step - loss: 0.2643 - categorical_accuracy: 0.9357\n",
            "Epoch 367/500\n",
            "33/33 [==============================] - 0s 2ms/step - loss: 0.1520 - categorical_accuracy: 0.9645\n",
            "Epoch 368/500\n",
            "33/33 [==============================] - 0s 3ms/step - loss: 0.0973 - categorical_accuracy: 0.9760\n",
            "Epoch 369/500\n",
            "33/33 [==============================] - 0s 3ms/step - loss: 0.0766 - categorical_accuracy: 0.9779\n",
            "Epoch 370/500\n",
            "33/33 [==============================] - 0s 2ms/step - loss: 0.2458 - categorical_accuracy: 0.9511\n",
            "Epoch 371/500\n",
            "33/33 [==============================] - 0s 2ms/step - loss: 0.2122 - categorical_accuracy: 0.9501\n",
            "Epoch 372/500\n",
            "33/33 [==============================] - 0s 3ms/step - loss: 0.2066 - categorical_accuracy: 0.9482\n",
            "Epoch 373/500\n",
            "33/33 [==============================] - 0s 3ms/step - loss: 0.0851 - categorical_accuracy: 0.9722\n",
            "Epoch 374/500\n",
            "33/33 [==============================] - 0s 4ms/step - loss: 0.1701 - categorical_accuracy: 0.9616\n",
            "Epoch 375/500\n",
            "33/33 [==============================] - 0s 2ms/step - loss: 0.2012 - categorical_accuracy: 0.9405\n",
            "Epoch 376/500\n",
            "33/33 [==============================] - 0s 2ms/step - loss: 0.2593 - categorical_accuracy: 0.9520\n",
            "Epoch 377/500\n",
            "33/33 [==============================] - 0s 3ms/step - loss: 0.1315 - categorical_accuracy: 0.9616\n",
            "Epoch 378/500\n",
            "33/33 [==============================] - 0s 3ms/step - loss: 0.1145 - categorical_accuracy: 0.9616\n",
            "Epoch 379/500\n",
            "33/33 [==============================] - 0s 3ms/step - loss: 0.1172 - categorical_accuracy: 0.9645\n",
            "Epoch 380/500\n",
            "33/33 [==============================] - 0s 3ms/step - loss: 0.0792 - categorical_accuracy: 0.9750\n",
            "Epoch 381/500\n",
            "33/33 [==============================] - 0s 3ms/step - loss: 0.1292 - categorical_accuracy: 0.9626\n",
            "Epoch 382/500\n",
            "33/33 [==============================] - 0s 3ms/step - loss: 0.0781 - categorical_accuracy: 0.9779\n",
            "Epoch 383/500\n",
            "33/33 [==============================] - 0s 4ms/step - loss: 0.0709 - categorical_accuracy: 0.9770\n",
            "Epoch 384/500\n",
            "33/33 [==============================] - 0s 5ms/step - loss: 0.1053 - categorical_accuracy: 0.9655\n",
            "Epoch 385/500\n",
            "33/33 [==============================] - 0s 4ms/step - loss: 0.0736 - categorical_accuracy: 0.9760\n",
            "Epoch 386/500\n",
            "33/33 [==============================] - 0s 3ms/step - loss: 0.0725 - categorical_accuracy: 0.9789\n",
            "Epoch 387/500\n",
            "33/33 [==============================] - 0s 4ms/step - loss: 0.0760 - categorical_accuracy: 0.9789\n",
            "Epoch 388/500\n",
            "33/33 [==============================] - 0s 4ms/step - loss: 0.0493 - categorical_accuracy: 0.9818\n",
            "Epoch 389/500\n",
            "33/33 [==============================] - 0s 4ms/step - loss: 0.0518 - categorical_accuracy: 0.9846\n",
            "Epoch 390/500\n",
            "33/33 [==============================] - 0s 3ms/step - loss: 0.0437 - categorical_accuracy: 0.9866\n",
            "Epoch 391/500\n",
            "33/33 [==============================] - 0s 4ms/step - loss: 0.0563 - categorical_accuracy: 0.9827\n",
            "Epoch 392/500\n",
            "33/33 [==============================] - 0s 5ms/step - loss: 0.0675 - categorical_accuracy: 0.9808\n",
            "Epoch 393/500\n",
            "33/33 [==============================] - 0s 3ms/step - loss: 0.1061 - categorical_accuracy: 0.9731\n",
            "Epoch 394/500\n",
            "33/33 [==============================] - 0s 4ms/step - loss: 0.0965 - categorical_accuracy: 0.9750\n",
            "Epoch 395/500\n",
            "33/33 [==============================] - 0s 4ms/step - loss: 0.0873 - categorical_accuracy: 0.9770\n",
            "Epoch 396/500\n",
            "33/33 [==============================] - 0s 4ms/step - loss: 0.0650 - categorical_accuracy: 0.9818\n",
            "Epoch 397/500\n",
            "33/33 [==============================] - 0s 4ms/step - loss: 0.0622 - categorical_accuracy: 0.9846\n",
            "Epoch 398/500\n",
            "33/33 [==============================] - 0s 4ms/step - loss: 0.1130 - categorical_accuracy: 0.9626\n",
            "Epoch 399/500\n",
            "33/33 [==============================] - 0s 3ms/step - loss: 0.2292 - categorical_accuracy: 0.9472\n",
            "Epoch 400/500\n",
            "33/33 [==============================] - 0s 6ms/step - loss: 0.1562 - categorical_accuracy: 0.9539\n",
            "Epoch 401/500\n",
            "33/33 [==============================] - 0s 3ms/step - loss: 0.2217 - categorical_accuracy: 0.9607\n",
            "Epoch 402/500\n",
            "33/33 [==============================] - 0s 4ms/step - loss: 0.1186 - categorical_accuracy: 0.9655\n",
            "Epoch 403/500\n",
            "33/33 [==============================] - 0s 3ms/step - loss: 0.1324 - categorical_accuracy: 0.9664\n",
            "Epoch 404/500\n",
            "33/33 [==============================] - 0s 4ms/step - loss: 0.3449 - categorical_accuracy: 0.9357\n",
            "Epoch 405/500\n",
            "33/33 [==============================] - 0s 3ms/step - loss: 0.3089 - categorical_accuracy: 0.9434\n",
            "Epoch 406/500\n",
            "33/33 [==============================] - 0s 3ms/step - loss: 0.0977 - categorical_accuracy: 0.9693\n",
            "Epoch 407/500\n",
            "33/33 [==============================] - 0s 3ms/step - loss: 0.0721 - categorical_accuracy: 0.9818\n",
            "Epoch 408/500\n",
            "33/33 [==============================] - 0s 3ms/step - loss: 0.0513 - categorical_accuracy: 0.9846\n",
            "Epoch 409/500\n",
            "33/33 [==============================] - 0s 5ms/step - loss: 0.0770 - categorical_accuracy: 0.9798\n",
            "Epoch 410/500\n",
            "33/33 [==============================] - 0s 4ms/step - loss: 0.0577 - categorical_accuracy: 0.9779\n",
            "Epoch 411/500\n",
            "33/33 [==============================] - 0s 4ms/step - loss: 0.0419 - categorical_accuracy: 0.9894\n",
            "Epoch 412/500\n",
            "33/33 [==============================] - 0s 4ms/step - loss: 0.0331 - categorical_accuracy: 0.9942\n",
            "Epoch 413/500\n",
            "33/33 [==============================] - 0s 4ms/step - loss: 0.0300 - categorical_accuracy: 0.9962\n",
            "Epoch 414/500\n",
            "33/33 [==============================] - 0s 4ms/step - loss: 0.0539 - categorical_accuracy: 0.9837\n",
            "Epoch 415/500\n",
            "33/33 [==============================] - 0s 3ms/step - loss: 0.0401 - categorical_accuracy: 0.9885\n",
            "Epoch 416/500\n",
            "33/33 [==============================] - 0s 3ms/step - loss: 0.0304 - categorical_accuracy: 0.9971\n",
            "Epoch 417/500\n",
            "33/33 [==============================] - 0s 4ms/step - loss: 0.0341 - categorical_accuracy: 0.9933\n",
            "Epoch 418/500\n",
            "33/33 [==============================] - 0s 6ms/step - loss: 0.0405 - categorical_accuracy: 0.9856\n",
            "Epoch 419/500\n",
            "33/33 [==============================] - 0s 4ms/step - loss: 0.0315 - categorical_accuracy: 0.9933\n",
            "Epoch 420/500\n",
            "33/33 [==============================] - 0s 4ms/step - loss: 0.0339 - categorical_accuracy: 0.9885\n",
            "Epoch 421/500\n",
            "33/33 [==============================] - 0s 4ms/step - loss: 0.0332 - categorical_accuracy: 0.9914\n",
            "Epoch 422/500\n",
            "33/33 [==============================] - 0s 4ms/step - loss: 0.0348 - categorical_accuracy: 0.9875\n",
            "Epoch 423/500\n",
            "33/33 [==============================] - 0s 3ms/step - loss: 0.0315 - categorical_accuracy: 0.9923\n",
            "Epoch 424/500\n",
            "33/33 [==============================] - 0s 3ms/step - loss: 0.0226 - categorical_accuracy: 0.9962\n",
            "Epoch 425/500\n",
            "33/33 [==============================] - 0s 4ms/step - loss: 0.0200 - categorical_accuracy: 0.9971\n",
            "Epoch 426/500\n",
            "33/33 [==============================] - 0s 4ms/step - loss: 0.0246 - categorical_accuracy: 0.9971\n",
            "Epoch 427/500\n",
            "33/33 [==============================] - 0s 4ms/step - loss: 0.0265 - categorical_accuracy: 0.9942\n",
            "Epoch 428/500\n",
            "33/33 [==============================] - 0s 4ms/step - loss: 0.0439 - categorical_accuracy: 0.9846\n",
            "Epoch 429/500\n",
            "33/33 [==============================] - 0s 4ms/step - loss: 0.1968 - categorical_accuracy: 0.9530\n",
            "Epoch 430/500\n",
            "33/33 [==============================] - 0s 3ms/step - loss: 0.3886 - categorical_accuracy: 0.9251\n",
            "Epoch 431/500\n",
            "33/33 [==============================] - 0s 3ms/step - loss: 0.4394 - categorical_accuracy: 0.9127\n",
            "Epoch 432/500\n",
            "33/33 [==============================] - 0s 4ms/step - loss: 0.5209 - categorical_accuracy: 0.9050\n",
            "Epoch 433/500\n",
            "33/33 [==============================] - 0s 4ms/step - loss: 0.1822 - categorical_accuracy: 0.9559\n",
            "Epoch 434/500\n",
            "33/33 [==============================] - 0s 4ms/step - loss: 0.1684 - categorical_accuracy: 0.9520\n",
            "Epoch 435/500\n",
            "33/33 [==============================] - 0s 3ms/step - loss: 0.1202 - categorical_accuracy: 0.9731\n",
            "Epoch 436/500\n",
            "33/33 [==============================] - 0s 3ms/step - loss: 0.0634 - categorical_accuracy: 0.9750\n",
            "Epoch 437/500\n",
            "33/33 [==============================] - 0s 3ms/step - loss: 0.0536 - categorical_accuracy: 0.9798\n",
            "Epoch 438/500\n",
            "33/33 [==============================] - 0s 2ms/step - loss: 0.0408 - categorical_accuracy: 0.9904\n",
            "Epoch 439/500\n",
            "33/33 [==============================] - 0s 3ms/step - loss: 0.0490 - categorical_accuracy: 0.9837\n",
            "Epoch 440/500\n",
            "33/33 [==============================] - 0s 2ms/step - loss: 0.0393 - categorical_accuracy: 0.9856\n",
            "Epoch 441/500\n",
            "33/33 [==============================] - 0s 3ms/step - loss: 0.0361 - categorical_accuracy: 0.9894\n",
            "Epoch 442/500\n",
            "33/33 [==============================] - 0s 2ms/step - loss: 0.0421 - categorical_accuracy: 0.9856\n",
            "Epoch 443/500\n",
            "33/33 [==============================] - 0s 4ms/step - loss: 0.0297 - categorical_accuracy: 0.9933\n",
            "Epoch 444/500\n",
            "33/33 [==============================] - 0s 3ms/step - loss: 0.0335 - categorical_accuracy: 0.9933\n",
            "Epoch 445/500\n",
            "33/33 [==============================] - 0s 2ms/step - loss: 0.0343 - categorical_accuracy: 0.9904\n",
            "Epoch 446/500\n",
            "33/33 [==============================] - 0s 2ms/step - loss: 0.0320 - categorical_accuracy: 0.9962\n",
            "Epoch 447/500\n",
            "33/33 [==============================] - 0s 3ms/step - loss: 0.0291 - categorical_accuracy: 0.9923\n",
            "Epoch 448/500\n",
            "33/33 [==============================] - 0s 2ms/step - loss: 0.0247 - categorical_accuracy: 0.9971\n",
            "Epoch 449/500\n",
            "33/33 [==============================] - 0s 3ms/step - loss: 0.0287 - categorical_accuracy: 0.9952\n",
            "Epoch 450/500\n",
            "33/33 [==============================] - 0s 2ms/step - loss: 0.0472 - categorical_accuracy: 0.9856\n",
            "Epoch 451/500\n",
            "33/33 [==============================] - 0s 2ms/step - loss: 0.0355 - categorical_accuracy: 0.9894\n",
            "Epoch 452/500\n",
            "33/33 [==============================] - 0s 4ms/step - loss: 0.0364 - categorical_accuracy: 0.9942\n",
            "Epoch 453/500\n",
            "33/33 [==============================] - 0s 2ms/step - loss: 0.0302 - categorical_accuracy: 0.9923\n",
            "Epoch 454/500\n",
            "33/33 [==============================] - 0s 3ms/step - loss: 0.0285 - categorical_accuracy: 0.9933\n",
            "Epoch 455/500\n",
            "33/33 [==============================] - 0s 2ms/step - loss: 0.0299 - categorical_accuracy: 0.9942\n",
            "Epoch 456/500\n",
            "33/33 [==============================] - 0s 3ms/step - loss: 0.0928 - categorical_accuracy: 0.9798\n",
            "Epoch 457/500\n",
            "33/33 [==============================] - 0s 3ms/step - loss: 0.3178 - categorical_accuracy: 0.9453\n",
            "Epoch 458/500\n",
            "33/33 [==============================] - 0s 2ms/step - loss: 0.5246 - categorical_accuracy: 0.9060\n",
            "Epoch 459/500\n",
            "33/33 [==============================] - 0s 2ms/step - loss: 1.0710 - categorical_accuracy: 0.8906\n",
            "Epoch 460/500\n",
            "33/33 [==============================] - 0s 3ms/step - loss: 0.9265 - categorical_accuracy: 0.8877\n",
            "Epoch 461/500\n",
            "33/33 [==============================] - 0s 4ms/step - loss: 0.7141 - categorical_accuracy: 0.8724\n",
            "Epoch 462/500\n",
            "33/33 [==============================] - 0s 3ms/step - loss: 0.5046 - categorical_accuracy: 0.9175\n",
            "Epoch 463/500\n",
            "33/33 [==============================] - 0s 2ms/step - loss: 0.1805 - categorical_accuracy: 0.9530\n",
            "Epoch 464/500\n",
            "33/33 [==============================] - 0s 2ms/step - loss: 0.1693 - categorical_accuracy: 0.9520\n",
            "Epoch 465/500\n",
            "33/33 [==============================] - 0s 2ms/step - loss: 0.1364 - categorical_accuracy: 0.9645\n",
            "Epoch 466/500\n",
            "33/33 [==============================] - 0s 2ms/step - loss: 0.1352 - categorical_accuracy: 0.9578\n",
            "Epoch 467/500\n",
            "33/33 [==============================] - 0s 2ms/step - loss: 0.1702 - categorical_accuracy: 0.9549\n",
            "Epoch 468/500\n",
            "33/33 [==============================] - 0s 2ms/step - loss: 0.1898 - categorical_accuracy: 0.9549\n",
            "Epoch 469/500\n",
            "33/33 [==============================] - 0s 2ms/step - loss: 0.1199 - categorical_accuracy: 0.9664\n",
            "Epoch 470/500\n",
            "33/33 [==============================] - 0s 2ms/step - loss: 0.0745 - categorical_accuracy: 0.9770\n",
            "Epoch 471/500\n",
            "33/33 [==============================] - 0s 3ms/step - loss: 0.0741 - categorical_accuracy: 0.9798\n",
            "Epoch 472/500\n",
            "33/33 [==============================] - 0s 3ms/step - loss: 0.0478 - categorical_accuracy: 0.9875\n",
            "Epoch 473/500\n",
            "33/33 [==============================] - 0s 3ms/step - loss: 0.0421 - categorical_accuracy: 0.9894\n",
            "Epoch 474/500\n",
            "33/33 [==============================] - 0s 2ms/step - loss: 0.0444 - categorical_accuracy: 0.9866\n",
            "Epoch 475/500\n",
            "33/33 [==============================] - 0s 2ms/step - loss: 0.0655 - categorical_accuracy: 0.9798\n",
            "Epoch 476/500\n",
            "33/33 [==============================] - 0s 3ms/step - loss: 0.0365 - categorical_accuracy: 0.9914\n",
            "Epoch 477/500\n",
            "33/33 [==============================] - 0s 2ms/step - loss: 0.0453 - categorical_accuracy: 0.9885\n",
            "Epoch 478/500\n",
            "33/33 [==============================] - 0s 3ms/step - loss: 0.0801 - categorical_accuracy: 0.9760\n",
            "Epoch 479/500\n",
            "33/33 [==============================] - 0s 3ms/step - loss: 0.0556 - categorical_accuracy: 0.9789\n",
            "Epoch 480/500\n",
            "33/33 [==============================] - 0s 3ms/step - loss: 0.0383 - categorical_accuracy: 0.9914\n",
            "Epoch 481/500\n",
            "33/33 [==============================] - 0s 4ms/step - loss: 0.0335 - categorical_accuracy: 0.9894\n",
            "Epoch 482/500\n",
            "33/33 [==============================] - 0s 3ms/step - loss: 0.0629 - categorical_accuracy: 0.9923\n",
            "Epoch 483/500\n",
            "33/33 [==============================] - 0s 2ms/step - loss: 0.0427 - categorical_accuracy: 0.9846\n",
            "Epoch 484/500\n",
            "33/33 [==============================] - 0s 2ms/step - loss: 0.0407 - categorical_accuracy: 0.9885\n",
            "Epoch 485/500\n",
            "33/33 [==============================] - 0s 3ms/step - loss: 0.0340 - categorical_accuracy: 0.9923\n",
            "Epoch 486/500\n",
            "33/33 [==============================] - 0s 3ms/step - loss: 0.0331 - categorical_accuracy: 0.9875\n",
            "Epoch 487/500\n",
            "33/33 [==============================] - 0s 2ms/step - loss: 0.0436 - categorical_accuracy: 0.9914\n",
            "Epoch 488/500\n",
            "33/33 [==============================] - 0s 3ms/step - loss: 0.0354 - categorical_accuracy: 0.9942\n",
            "Epoch 489/500\n",
            "33/33 [==============================] - 0s 2ms/step - loss: 0.0315 - categorical_accuracy: 0.9914\n",
            "Epoch 490/500\n",
            "33/33 [==============================] - 0s 3ms/step - loss: 0.0258 - categorical_accuracy: 0.9942\n",
            "Epoch 491/500\n",
            "33/33 [==============================] - 0s 3ms/step - loss: 0.0224 - categorical_accuracy: 0.9952\n",
            "Epoch 492/500\n",
            "33/33 [==============================] - 0s 3ms/step - loss: 0.0316 - categorical_accuracy: 0.9923\n",
            "Epoch 493/500\n",
            "33/33 [==============================] - 0s 2ms/step - loss: 0.0293 - categorical_accuracy: 0.9942\n",
            "Epoch 494/500\n",
            "33/33 [==============================] - 0s 2ms/step - loss: 0.0314 - categorical_accuracy: 0.9952\n",
            "Epoch 495/500\n",
            "33/33 [==============================] - 0s 2ms/step - loss: 0.0581 - categorical_accuracy: 0.9818\n",
            "Epoch 496/500\n",
            "33/33 [==============================] - 0s 2ms/step - loss: 0.0831 - categorical_accuracy: 0.9750\n",
            "Epoch 497/500\n",
            "33/33 [==============================] - 0s 2ms/step - loss: 0.0857 - categorical_accuracy: 0.9789\n",
            "Epoch 498/500\n",
            "33/33 [==============================] - 0s 2ms/step - loss: 0.0382 - categorical_accuracy: 0.9933\n",
            "Epoch 499/500\n",
            "33/33 [==============================] - 0s 3ms/step - loss: 0.0380 - categorical_accuracy: 0.9923\n",
            "Epoch 500/500\n",
            "33/33 [==============================] - 0s 4ms/step - loss: 0.2600 - categorical_accuracy: 0.9511\n"
          ]
        },
        {
          "data": {
            "text/plain": [
              "<keras.src.callbacks.History at 0x247c75d8450>"
            ]
          },
          "execution_count": 20,
          "metadata": {},
          "output_type": "execute_result"
        }
      ],
      "source": [
        "model2.fit(X_train_reshaped, Y_train, epochs=500)"
      ]
    },
    {
      "cell_type": "code",
      "execution_count": 21,
      "id": "42231b47",
      "metadata": {
        "colab": {
          "base_uri": "https://localhost:8080/"
        },
        "execution": {
          "iopub.execute_input": "2023-06-24T06:43:45.522589Z",
          "iopub.status.busy": "2023-06-24T06:43:45.522205Z",
          "iopub.status.idle": "2023-06-24T06:43:45.688197Z",
          "shell.execute_reply": "2023-06-24T06:43:45.686954Z"
        },
        "id": "42231b47",
        "outputId": "87671379-982d-43c8-cdeb-0e87273515c7",
        "papermill": {
          "duration": 0.452588,
          "end_time": "2023-06-24T06:43:45.690374",
          "exception": false,
          "start_time": "2023-06-24T06:43:45.237786",
          "status": "completed"
        },
        "tags": []
      },
      "outputs": [
        {
          "name": "stdout",
          "output_type": "stream",
          "text": [
            "15/15 [==============================] - 0s 994us/step\n",
            "Predicted pose: downdog\n",
            "Actual pose: downdog\n"
          ]
        }
      ],
      "source": [
        "poses_mapping = {0: 'downdog', 1: 'goddess', 2: 'plank', 3: 'tree', 4: 'warrior2'}\n",
        "result = model2.predict(X_test_reshaped )\n",
        "\n",
        "print(\"Predicted pose:\", poses_mapping[np.argmax(result[5])])\n",
        "print(\"Actual pose:\", poses_mapping[np.argmax(Y_test[5])])"
      ]
    },
    {
      "cell_type": "code",
      "execution_count": 22,
      "id": "43f07619",
      "metadata": {
        "colab": {
          "base_uri": "https://localhost:8080/"
        },
        "execution": {
          "iopub.execute_input": "2023-06-24T06:43:46.250235Z",
          "iopub.status.busy": "2023-06-24T06:43:46.249848Z",
          "iopub.status.idle": "2023-06-24T06:43:46.284096Z",
          "shell.execute_reply": "2023-06-24T06:43:46.283074Z"
        },
        "id": "43f07619",
        "outputId": "2ad0c916-f41d-4bce-c29d-69b97c2232c8",
        "papermill": {
          "duration": 0.317023,
          "end_time": "2023-06-24T06:43:46.286465",
          "exception": false,
          "start_time": "2023-06-24T06:43:45.969442",
          "status": "completed"
        },
        "tags": []
      },
      "outputs": [
        {
          "name": "stderr",
          "output_type": "stream",
          "text": [
            "f:\\Anaconda\\Lib\\site-packages\\keras\\src\\engine\\training.py:3103: UserWarning: You are saving your model as an HDF5 file via `model.save()`. This file format is considered legacy. We recommend using instead the native Keras format, e.g. `model.save('my_model.keras')`.\n",
            "  saving_api.save_model(\n"
          ]
        }
      ],
      "source": [
        "model2.save('F:/Anaconda_Project/Utilizing_Deep_Learning_for_Human_Pose_Estimation_in_Yoga/lstm.h5')"
      ]
    },
    {
      "cell_type": "code",
      "execution_count": 23,
      "id": "e17d1413",
      "metadata": {
        "execution": {
          "iopub.execute_input": "2023-06-24T06:43:46.834378Z",
          "iopub.status.busy": "2023-06-24T06:43:46.833595Z",
          "iopub.status.idle": "2023-06-24T06:43:46.920089Z",
          "shell.execute_reply": "2023-06-24T06:43:46.919120Z"
        },
        "id": "e17d1413",
        "papermill": {
          "duration": 0.36488,
          "end_time": "2023-06-24T06:43:46.922578",
          "exception": false,
          "start_time": "2023-06-24T06:43:46.557698",
          "status": "completed"
        },
        "tags": []
      },
      "outputs": [],
      "source": [
        "from keras.models import load_model\n",
        "\n",
        "model = load_model('F:/Anaconda_Project/Utilizing_Deep_Learning_for_Human_Pose_Estimation_in_Yoga/lstm.h5')\n"
      ]
    },
    {
      "cell_type": "code",
      "execution_count": 24,
      "id": "712735e2",
      "metadata": {
        "colab": {
          "base_uri": "https://localhost:8080/"
        },
        "execution": {
          "iopub.execute_input": "2023-06-24T06:43:47.514063Z",
          "iopub.status.busy": "2023-06-24T06:43:47.513618Z",
          "iopub.status.idle": "2023-06-24T06:43:47.742259Z",
          "shell.execute_reply": "2023-06-24T06:43:47.741234Z"
        },
        "id": "712735e2",
        "outputId": "dbebe7fe-34a5-49f0-93c8-ddbac2959d57",
        "papermill": {
          "duration": 0.526584,
          "end_time": "2023-06-24T06:43:47.744620",
          "exception": false,
          "start_time": "2023-06-24T06:43:47.218036",
          "status": "completed"
        },
        "tags": []
      },
      "outputs": [
        {
          "name": "stdout",
          "output_type": "stream",
          "text": [
            "15/15 [==============================] - 1s 3ms/step - loss: 0.4990 - categorical_accuracy: 0.9591\n",
            "Test loss: 0.4990493059158325\n",
            "Test accuracy: 0.9591397643089294\n"
          ]
        }
      ],
      "source": [
        "loss, accuracy = model.evaluate(X_test_reshaped , Y_test)\n",
        "print(\"Test loss:\", loss)\n",
        "print(\"Test accuracy:\", accuracy)"
      ]
    },
    {
      "cell_type": "code",
      "execution_count": 25,
      "id": "7f7b049e",
      "metadata": {
        "colab": {
          "base_uri": "https://localhost:8080/"
        },
        "execution": {
          "iopub.execute_input": "2023-06-24T06:43:48.338800Z",
          "iopub.status.busy": "2023-06-24T06:43:48.337744Z",
          "iopub.status.idle": "2023-06-24T06:43:48.448436Z",
          "shell.execute_reply": "2023-06-24T06:43:48.447457Z"
        },
        "id": "7f7b049e",
        "outputId": "b46fc91f-d8d7-46b2-cdee-b7be766219ba",
        "papermill": {
          "duration": 0.41499,
          "end_time": "2023-06-24T06:43:48.450799",
          "exception": false,
          "start_time": "2023-06-24T06:43:48.035809",
          "status": "completed"
        },
        "tags": []
      },
      "outputs": [
        {
          "name": "stdout",
          "output_type": "stream",
          "text": [
            "15/15 [==============================] - 0s 2ms/step\n"
          ]
        }
      ],
      "source": [
        "predictions = model.predict(X_test_reshaped )"
      ]
    },
    {
      "cell_type": "code",
      "execution_count": 28,
      "id": "aa1c268d",
      "metadata": {
        "colab": {
          "base_uri": "https://localhost:8080/"
        },
        "execution": {
          "iopub.execute_input": "2023-06-24T06:43:49.047731Z",
          "iopub.status.busy": "2023-06-24T06:43:49.045856Z",
          "iopub.status.idle": "2023-06-24T06:43:49.583311Z",
          "shell.execute_reply": "2023-06-24T06:43:49.582440Z"
        },
        "id": "aa1c268d",
        "outputId": "1f4edf48-e566-44f2-e7db-1e26b07a8a44",
        "papermill": {
          "duration": 0.817814,
          "end_time": "2023-06-24T06:43:49.585222",
          "exception": false,
          "start_time": "2023-06-24T06:43:48.767408",
          "status": "completed"
        },
        "tags": []
      },
      "outputs": [
        {
          "name": "stdout",
          "output_type": "stream",
          "text": [
            "1/1 [==============================] - 0s 250ms/step\n",
            "Predicted pose: warrior2\n"
          ]
        }
      ],
      "source": [
        "test_image_path = 'F:/Anaconda_Project/Utilizing_Deep_Learning_for_Human_Pose_Estimation_in_Yoga/DATASET/TEST/warrior2/00000000.jpg'\n",
        "test_image = cv2.imread(test_image_path)\n",
        "test_image = cv2.cvtColor(test_image, cv2.COLOR_BGR2RGB)\n",
        "\n",
        "with mp_pose.Pose() as pose_tracker:\n",
        "    result = pose_tracker.process(image=test_image)\n",
        "    pose_landmarks = result.pose_landmarks\n",
        "\n",
        "output_image = test_image.copy()\n",
        "mp_drawing.draw_landmarks(image=output_image, landmark_list=pose_landmarks, connections=mp_pose.POSE_CONNECTIONS)\n",
        "output_image = cv2.cvtColor(output_image, cv2.COLOR_RGB2BGR)\n",
        "\n",
        "if pose_landmarks is not None:\n",
        "    pose_landmarks = [[landmark.x, landmark.y, landmark.z] for landmark in pose_landmarks.landmark]\n",
        "    frame_height, frame_width = output_image.shape[:2]\n",
        "\n",
        "    pose_landmarks *= np.array([frame_height, frame_height, frame_width])\n",
        "\n",
        "    pose_landmarks = np.around(pose_landmarks, 5).flatten().astype(np.float32).tolist()\n",
        "\n",
        "from keras.models import load_model\n",
        "\n",
        "saved_model_path = 'F:/Anaconda_Project/Utilizing_Deep_Learning_for_Human_Pose_Estimation_in_Yoga/lstm.h5'\n",
        "model = load_model(saved_model_path)\n",
        "\n",
        "test_data = np.array([pose_landmarks])\n",
        "test_data = np.reshape(test_data, (test_data.shape[0], 1,test_data.shape[1]))\n",
        "\n",
        "predictions = model.predict(test_data)\n",
        "\n",
        "poses_mapping = {0: 'downdog', 1: 'goddess', 2: 'plank', 3: 'tree', 4: 'warrior2'}\n",
        "true_label = 4  # Replace with the true label of the test image\n",
        "predicted_label = np.argmax(predictions[0])\n",
        "predicted_pose = poses_mapping[predicted_label]\n",
        "\n",
        "\n",
        "print(\"Predicted pose:\", predicted_pose)\n",
        "\n",
        "\n",
        "from sklearn.metrics import accuracy_score"
      ]
    },
    {
      "cell_type": "code",
      "execution_count": 29,
      "id": "4f263685",
      "metadata": {
        "colab": {
          "base_uri": "https://localhost:8080/"
        },
        "execution": {
          "iopub.execute_input": "2023-06-24T06:43:52.175040Z",
          "iopub.status.busy": "2023-06-24T06:43:52.174622Z",
          "iopub.status.idle": "2023-06-24T06:43:52.260578Z",
          "shell.execute_reply": "2023-06-24T06:43:52.258475Z"
        },
        "id": "4f263685",
        "outputId": "d77da129-8cc0-4061-e644-ba88ed85cb53",
        "papermill": {
          "duration": 0.385163,
          "end_time": "2023-06-24T06:43:52.265186",
          "exception": false,
          "start_time": "2023-06-24T06:43:51.880023",
          "status": "completed"
        },
        "tags": []
      },
      "outputs": [
        {
          "name": "stdout",
          "output_type": "stream",
          "text": [
            "15/15 [==============================] - 0s 1ms/step\n",
            "\n",
            "Classification Report:\n",
            "              precision    recall  f1-score   support\n",
            "\n",
            "     downdog       1.00      1.00      1.00        94\n",
            "     goddess       0.94      0.85      0.89        80\n",
            "       plank       0.97      0.99      0.98       115\n",
            "        tree       1.00      0.96      0.98        69\n",
            "    warrior2       0.90      0.97      0.93       107\n",
            "\n",
            "    accuracy                           0.96       465\n",
            "   macro avg       0.96      0.95      0.96       465\n",
            "weighted avg       0.96      0.96      0.96       465\n",
            "\n"
          ]
        }
      ],
      "source": [
        "from sklearn.metrics import classification_report, confusion_matrix\n",
        "import numpy as np\n",
        "from sklearn.metrics import roc_curve, roc_auc_score\n",
        "import matplotlib.pyplot as plt\n",
        "\n",
        "poses_mapping = {0: 'downdog', 1: 'goddess', 2: 'plank', 3: 'tree', 4: 'warrior2'}\n",
        "result = model2.predict(X_test_reshaped)\n",
        "\n",
        "# Example predictions and true labels\n",
        "predictions = result  # Use the predicted probabilities\n",
        "true_labels = Y_test\n",
        "\n",
        "# Obtain predictions from the model\n",
        "y_pred = np.argmax(predictions, axis=1)\n",
        "y_true = np.argmax(Y_test, axis=1)\n",
        "\n",
        "# Compute confusion matrix\n",
        "cm = confusion_matrix(y_true, y_pred)\n",
        "\n",
        "# Compute classification report\n",
        "classification_rep = classification_report(y_true, y_pred, target_names=poses_mapping.values())\n",
        "\n",
        "\n",
        "print(\"\\nClassification Report:\")\n",
        "print(classification_rep)"
      ]
    },
    {
      "cell_type": "code",
      "execution_count": 31,
      "id": "4pDaHR3VJGkZ",
      "metadata": {
        "colab": {
          "base_uri": "https://localhost:8080/",
          "height": 642
        },
        "id": "4pDaHR3VJGkZ",
        "outputId": "4ca32d01-d956-4ad4-c866-b067cfc8022e"
      },
      "outputs": [
        {
          "name": "stdout",
          "output_type": "stream",
          "text": [
            "33/33 [==============================] - 0s 2ms/step\n",
            "15/15 [==============================] - 0s 2ms/step\n"
          ]
        },
        {
          "data": {
            "image/png": "[encoded data removed]",
            "text/plain": [
              "<Figure size 1200x600 with 2 Axes>"
            ]
          },
          "metadata": {},
          "output_type": "display_data"
        }
      ],
      "source": [
        "from sklearn.metrics import confusion_matrix\n",
        "import seaborn as sns\n",
        "import matplotlib.pyplot as plt\n",
        "\n",
        "poses_mapping = {0: 'downdog', 1: 'goddess', 2: 'plank', 3: 'tree', 4: 'warrior2'}\n",
        "\n",
        "# Training set evaluation\n",
        "prediction_train = model2.predict(X_train_reshaped)\n",
        "prediction_train = np.argmax(prediction_train, axis=1)\n",
        "\n",
        "confusion_train = confusion_matrix(np.argmax(Y_train, axis=1), prediction_train)\n",
        "\n",
        "# Test set evaluation\n",
        "prediction_test = model2.predict(X_test_reshaped)\n",
        "prediction_test = np.argmax(prediction_test, axis=1)\n",
        "\n",
        "confusion_test = confusion_matrix(np.argmax(Y_test, axis=1), prediction_test)\n",
        "\n",
        "# Create subplots\n",
        "fig, axes = plt.subplots(1, 2, figsize=(12, 6))\n",
        "\n",
        "# Plot the confusion matrix for the training set\n",
        "sns.heatmap(confusion_train, annot=True, fmt=\"d\", cmap=\"Blues\", cbar=False, ax=axes[0], xticklabels=list(poses_mapping.values()), yticklabels=list(poses_mapping.values()))\n",
        "axes[0].set_xlabel(\"Predicted Labels\")\n",
        "axes[0].set_ylabel(\"True Labels\")\n",
        "axes[0].set_title(\"Confusion Matrix - Training Set\")\n",
        "\n",
        "# Add a black border between the two matrices\n",
        "axes[0].axvline(x=confusion_train.shape[1], color=\"black\")\n",
        "\n",
        "# Plot the confusion matrix for the test set\n",
        "sns.heatmap(confusion_test, annot=True, fmt=\"d\", cmap=\"Blues\", cbar=False, ax=axes[1], xticklabels=list(poses_mapping.values()), yticklabels=list(poses_mapping.values()))\n",
        "axes[1].set_xlabel(\"Predicted Labels\")\n",
        "axes[1].set_ylabel(\"True Labels\")\n",
        "axes[1].set_title(\"Confusion Matrix - Test Set\")\n",
        "\n",
        "# Adjust the spacing between subplots\n",
        "plt.tight_layout()\n",
        "\n",
        "# Display the plot\n",
        "plt.show()\n"
      ]
    }
  ],
  "metadata": {
    "colab": {
      "provenance": []
    },
    "kernelspec": {
      "display_name": "Python 3",
      "language": "python",
      "name": "python3"
    },
    "language_info": {
      "codemirror_mode": {
        "name": "ipython",
        "version": 3
      },
      "file_extension": ".py",
      "mimetype": "text/x-python",
      "name": "python",
      "nbconvert_exporter": "python",
      "pygments_lexer": "ipython3",
      "version": "3.11.5"
    },
    "papermill": {
      "default_parameters": {},
      "duration": 383.235027,
      "end_time": "2023-06-24T06:43:59.317916",
      "environment_variables": {},
      "exception": null,
      "input_path": "__notebook__.ipynb",
      "output_path": "__notebook__.ipynb",
      "parameters": {},
      "start_time": "2023-06-24T06:37:36.082889",
      "version": "2.4.0"
    }
  },
  "nbformat": 4,
  "nbformat_minor": 5
}
